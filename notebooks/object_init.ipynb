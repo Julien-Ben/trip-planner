{
 "cells": [
  {
   "cell_type": "code",
   "execution_count": 2,
   "id": "9fb842fa-5421-48e1-83b0-fe02c83fde8b",
   "metadata": {},
   "outputs": [
    {
     "name": "stdout",
     "output_type": "stream",
     "text": [
      "Collecting dill\n",
      "  Downloading dill-0.3.5.1-py2.py3-none-any.whl (95 kB)\n",
      "\u001b[K     |████████████████████████████████| 95 kB 4.4 MB/s eta 0:00:011\n",
      "\u001b[?25hInstalling collected packages: dill\n",
      "Successfully installed dill-0.3.5.1\n",
      "\u001b[33mWARNING: You are using pip version 22.0.3; however, version 22.1.1 is available.\n",
      "You should consider upgrading via the '/opt/conda/bin/python -m pip install --upgrade pip' command.\u001b[0m\n"
     ]
    }
   ],
   "source": [
    "!pip install dill\n"
   ]
  },
  {
   "cell_type": "code",
   "execution_count": 3,
   "id": "e4e4be84-9682-44cb-ae2d-0d7e0e2815fa",
   "metadata": {},
   "outputs": [],
   "source": [
    "import sys\n",
    "sys.path.append('../')\n",
    "\n",
    "import dill\n",
    "from scripts.graph import Station, RouteStopArr, RouteStopDep, WalkingStop, Timetable"
   ]
  },
  {
   "cell_type": "code",
   "execution_count": 4,
   "id": "bef787c5-398f-48a8-8314-d134c3db9d1e",
   "metadata": {},
   "outputs": [],
   "source": [
    "from os.path import join\n",
    "import pandas as pd"
   ]
  },
  {
   "cell_type": "code",
   "execution_count": 5,
   "id": "76f04a51-b9ff-47f1-b856-6246d2889e55",
   "metadata": {},
   "outputs": [],
   "source": [
    "%load_ext autoreload\n",
    "%autoreload 2"
   ]
  },
  {
   "cell_type": "code",
   "execution_count": 6,
   "id": "fb82ca09-c1a2-4ed6-8243-a3444bd2dd71",
   "metadata": {},
   "outputs": [],
   "source": [
    "DATA = '../data/'"
   ]
  },
  {
   "cell_type": "markdown",
   "id": "c86c9433-5550-4216-a5f7-cab4e47ab7e7",
   "metadata": {},
   "source": [
    "# init stations"
   ]
  },
  {
   "cell_type": "code",
   "execution_count": 26,
   "id": "440cc454-4b4a-4a55-97b1-2fd73be46c1e",
   "metadata": {},
   "outputs": [
    {
     "data": {
      "text/html": [
       "<div>\n",
       "<style scoped>\n",
       "    .dataframe tbody tr th:only-of-type {\n",
       "        vertical-align: middle;\n",
       "    }\n",
       "\n",
       "    .dataframe tbody tr th {\n",
       "        vertical-align: top;\n",
       "    }\n",
       "\n",
       "    .dataframe thead th {\n",
       "        text-align: right;\n",
       "    }\n",
       "</style>\n",
       "<table border=\"1\" class=\"dataframe\">\n",
       "  <thead>\n",
       "    <tr style=\"text-align: right;\">\n",
       "      <th></th>\n",
       "      <th>station_Id</th>\n",
       "      <th>STOP_NAME</th>\n",
       "      <th>STOP_LAT</th>\n",
       "      <th>STOP_LON</th>\n",
       "      <th>collect_list(end_route_stop_id)</th>\n",
       "    </tr>\n",
       "  </thead>\n",
       "  <tbody>\n",
       "    <tr>\n",
       "      <th>0</th>\n",
       "      <td>8591097</td>\n",
       "      <td>Zürich, Bristenstrasse</td>\n",
       "      <td>47.390079</td>\n",
       "      <td>8.487058</td>\n",
       "      <td>['26-89-j20-1$Zürich, Bristenstrasse$D', '26-8...</td>\n",
       "    </tr>\n",
       "    <tr>\n",
       "      <th>1</th>\n",
       "      <td>8590906</td>\n",
       "      <td>Wangen b D'dorf, Dürrbach</td>\n",
       "      <td>47.408060</td>\n",
       "      <td>8.637589</td>\n",
       "      <td>[\"26-759-j20-1$Wangen b D'dorf, Dürrbach$D\", \"...</td>\n",
       "    </tr>\n",
       "    <tr>\n",
       "      <th>2</th>\n",
       "      <td>8502559</td>\n",
       "      <td>Waldegg, Birmensdorferstrasse</td>\n",
       "      <td>47.368303</td>\n",
       "      <td>8.463468</td>\n",
       "      <td>['26-215-j20-1$Waldegg, Birmensdorferstrasse$A...</td>\n",
       "    </tr>\n",
       "    <tr>\n",
       "      <th>3</th>\n",
       "      <td>8504801</td>\n",
       "      <td>Hochfelden, Martinsmühle</td>\n",
       "      <td>47.523165</td>\n",
       "      <td>8.517367</td>\n",
       "      <td>['26-535-j20-1$Hochfelden, Martinsmühle$D', '2...</td>\n",
       "    </tr>\n",
       "    <tr>\n",
       "      <th>4</th>\n",
       "      <td>8503446</td>\n",
       "      <td>Zürich Landesmuseum (See)</td>\n",
       "      <td>47.379046</td>\n",
       "      <td>8.541577</td>\n",
       "      <td>['26-373-4-j20-1$Zürich Landesmuseum (See)$D',...</td>\n",
       "    </tr>\n",
       "  </tbody>\n",
       "</table>\n",
       "</div>"
      ],
      "text/plain": [
       "  station_Id                      STOP_NAME   STOP_LAT  STOP_LON  \\\n",
       "0    8591097         Zürich, Bristenstrasse  47.390079  8.487058   \n",
       "1    8590906      Wangen b D'dorf, Dürrbach  47.408060  8.637589   \n",
       "2    8502559  Waldegg, Birmensdorferstrasse  47.368303  8.463468   \n",
       "3    8504801       Hochfelden, Martinsmühle  47.523165  8.517367   \n",
       "4    8503446      Zürich Landesmuseum (See)  47.379046  8.541577   \n",
       "\n",
       "                     collect_list(end_route_stop_id)  \n",
       "0  ['26-89-j20-1$Zürich, Bristenstrasse$D', '26-8...  \n",
       "1  [\"26-759-j20-1$Wangen b D'dorf, Dürrbach$D\", \"...  \n",
       "2  ['26-215-j20-1$Waldegg, Birmensdorferstrasse$A...  \n",
       "3  ['26-535-j20-1$Hochfelden, Martinsmühle$D', '2...  \n",
       "4  ['26-373-4-j20-1$Zürich Landesmuseum (See)$D',...  "
      ]
     },
     "execution_count": 26,
     "metadata": {},
     "output_type": "execute_result"
    }
   ],
   "source": [
    "station_df = pd.read_csv(join(DATA, 'stations.csv'), index_col=0)\n",
    "station_df.head()"
   ]
  },
  {
   "cell_type": "code",
   "execution_count": 29,
   "id": "604eda6a-b67d-4762-bf45-6a55a9e859b4",
   "metadata": {},
   "outputs": [],
   "source": [
    "stations = {}\n",
    "for i, row in station_df.iterrows():\n",
    "    stations[row['STOP_NAME']]= Station(int(row['station_Id']), row['STOP_NAME'], row['STOP_LAT'], row['STOP_LON'])"
   ]
  },
  {
   "cell_type": "code",
   "execution_count": 31,
   "id": "1af91cdf-8168-4a64-b6b7-37883eee05a1",
   "metadata": {},
   "outputs": [
    {
     "data": {
      "text/plain": [
       "'Zürich, Bristenstrasse'"
      ]
     },
     "execution_count": 31,
     "metadata": {},
     "output_type": "execute_result"
    }
   ],
   "source": [
    "stations['Zürich, Bristenstrasse']"
   ]
  },
  {
   "cell_type": "markdown",
   "id": "03c62680-5ee4-410b-8204-85a4da71ea95",
   "metadata": {},
   "source": [
    "# init routestops"
   ]
  },
  {
   "cell_type": "code",
   "execution_count": 61,
   "id": "0bd744f8-9e34-4a23-9669-5a1dcd0e3b17",
   "metadata": {},
   "outputs": [],
   "source": [
    "arrivals = pd.read_csv(join(DATA, 'arrivals_ext.csv'), index_col=0).fillna(30)\n",
    "terminus = pd.read_csv(join(DATA, 'terminus_ext.csv'), index_col=0)\n",
    "departure = pd.read_csv(join(DATA, 'departures.csv'), index_col=0)"
   ]
  },
  {
   "cell_type": "code",
   "execution_count": 62,
   "id": "a3320a2d-ab1c-4d49-bf10-36fe235b7400",
   "metadata": {},
   "outputs": [
    {
     "data": {
      "text/html": [
       "<div>\n",
       "<style scoped>\n",
       "    .dataframe tbody tr th:only-of-type {\n",
       "        vertical-align: middle;\n",
       "    }\n",
       "\n",
       "    .dataframe tbody tr th {\n",
       "        vertical-align: top;\n",
       "    }\n",
       "\n",
       "    .dataframe thead th {\n",
       "        text-align: right;\n",
       "    }\n",
       "</style>\n",
       "<table border=\"1\" class=\"dataframe\">\n",
       "  <thead>\n",
       "    <tr style=\"text-align: right;\">\n",
       "      <th></th>\n",
       "      <th>STOP_NAME</th>\n",
       "      <th>stop_sequence</th>\n",
       "      <th>end_route_stop_id</th>\n",
       "      <th>route_stop_id</th>\n",
       "      <th>travel_time</th>\n",
       "      <th>target_end_route_stop_id</th>\n",
       "      <th>route_id</th>\n",
       "      <th>route_name</th>\n",
       "      <th>transport_type</th>\n",
       "    </tr>\n",
       "  </thead>\n",
       "  <tbody>\n",
       "    <tr>\n",
       "      <th>0</th>\n",
       "      <td>Zürich, Hardplatz</td>\n",
       "      <td>16</td>\n",
       "      <td>26-72-j20-1$Zürich, Hardplatz$A</td>\n",
       "      <td>26-72-j20-1$Zürich, Hardplatz</td>\n",
       "      <td>30.0</td>\n",
       "      <td>26-72-j20-1$Zürich, Albisriederplatz$D</td>\n",
       "      <td>26-72-j20-1</td>\n",
       "      <td>Bus 72</td>\n",
       "      <td>Bus</td>\n",
       "    </tr>\n",
       "    <tr>\n",
       "      <th>1</th>\n",
       "      <td>Zürich, Zwinglihaus</td>\n",
       "      <td>11</td>\n",
       "      <td>26-72-j20-1$Zürich, Zwinglihaus$A</td>\n",
       "      <td>26-72-j20-1$Zürich, Zwinglihaus</td>\n",
       "      <td>60.0</td>\n",
       "      <td>26-72-j20-1$Zürich, Bertastrasse$D</td>\n",
       "      <td>26-72-j20-1</td>\n",
       "      <td>Bus 72</td>\n",
       "      <td>Bus</td>\n",
       "    </tr>\n",
       "  </tbody>\n",
       "</table>\n",
       "</div>"
      ],
      "text/plain": [
       "             STOP_NAME  stop_sequence                  end_route_stop_id  \\\n",
       "0    Zürich, Hardplatz             16    26-72-j20-1$Zürich, Hardplatz$A   \n",
       "1  Zürich, Zwinglihaus             11  26-72-j20-1$Zürich, Zwinglihaus$A   \n",
       "\n",
       "                     route_stop_id  travel_time  \\\n",
       "0    26-72-j20-1$Zürich, Hardplatz         30.0   \n",
       "1  26-72-j20-1$Zürich, Zwinglihaus         60.0   \n",
       "\n",
       "                 target_end_route_stop_id     route_id route_name  \\\n",
       "0  26-72-j20-1$Zürich, Albisriederplatz$D  26-72-j20-1     Bus 72   \n",
       "1      26-72-j20-1$Zürich, Bertastrasse$D  26-72-j20-1     Bus 72   \n",
       "\n",
       "  transport_type  \n",
       "0            Bus  \n",
       "1            Bus  "
      ]
     },
     "execution_count": 62,
     "metadata": {},
     "output_type": "execute_result"
    }
   ],
   "source": [
    "arrivals.head(2)"
   ]
  },
  {
   "cell_type": "code",
   "execution_count": 63,
   "id": "9a3261fd-bb6a-4f0c-9c21-85d35c8da57d",
   "metadata": {},
   "outputs": [
    {
     "data": {
      "text/html": [
       "<div>\n",
       "<style scoped>\n",
       "    .dataframe tbody tr th:only-of-type {\n",
       "        vertical-align: middle;\n",
       "    }\n",
       "\n",
       "    .dataframe tbody tr th {\n",
       "        vertical-align: top;\n",
       "    }\n",
       "\n",
       "    .dataframe thead th {\n",
       "        text-align: right;\n",
       "    }\n",
       "</style>\n",
       "<table border=\"1\" class=\"dataframe\">\n",
       "  <thead>\n",
       "    <tr style=\"text-align: right;\">\n",
       "      <th></th>\n",
       "      <th>STOP_NAME</th>\n",
       "      <th>stop_sequence</th>\n",
       "      <th>end_route_stop_id</th>\n",
       "      <th>route_stop_id</th>\n",
       "      <th>route_id</th>\n",
       "      <th>route_name</th>\n",
       "      <th>transport_type</th>\n",
       "    </tr>\n",
       "  </thead>\n",
       "  <tbody>\n",
       "    <tr>\n",
       "      <th>0</th>\n",
       "      <td>Zürich, Triemlispital</td>\n",
       "      <td>1</td>\n",
       "      <td>26-80-j20-1$Zürich, Triemlispital$A</td>\n",
       "      <td>26-80-j20-1$Zürich, Triemlispital</td>\n",
       "      <td>26-80-j20-1</td>\n",
       "      <td>Bus 80</td>\n",
       "      <td>Bus</td>\n",
       "    </tr>\n",
       "  </tbody>\n",
       "</table>\n",
       "</div>"
      ],
      "text/plain": [
       "               STOP_NAME  stop_sequence                    end_route_stop_id  \\\n",
       "0  Zürich, Triemlispital              1  26-80-j20-1$Zürich, Triemlispital$A   \n",
       "\n",
       "                       route_stop_id     route_id route_name transport_type  \n",
       "0  26-80-j20-1$Zürich, Triemlispital  26-80-j20-1     Bus 80            Bus  "
      ]
     },
     "execution_count": 63,
     "metadata": {},
     "output_type": "execute_result"
    }
   ],
   "source": [
    "terminus.head(1)"
   ]
  },
  {
   "cell_type": "code",
   "execution_count": 86,
   "id": "f144ed77-2742-4c6f-9796-be85a56d1bbd",
   "metadata": {},
   "outputs": [
    {
     "data": {
      "text/plain": [
       "(968, 10901, 21543)"
      ]
     },
     "execution_count": 86,
     "metadata": {},
     "output_type": "execute_result"
    }
   ],
   "source": [
    "len(terminus), len(departure), len(arrivals)"
   ]
  },
  {
   "cell_type": "code",
   "execution_count": 79,
   "id": "b34597e2-2dbc-433d-8edf-9bdf894f04cf",
   "metadata": {},
   "outputs": [
    {
     "data": {
      "text/plain": [
       "array([['26-8-j20-1$Zürich, Bernoulli-Häuser', '8591074', '26-8-j20-1',\n",
       "        'Zürich, Bernoulli-Häuser',\n",
       "        '26-8-j20-1$Zürich, Bernoulli-Häuser$D', 0.0, 'Tram 8', 'Tram'],\n",
       "       ['26-8-j20-1$Zürich, Langmauerstrasse', '8591244', '26-8-j20-1',\n",
       "        'Zürich, Langmauerstrasse',\n",
       "        '26-8-j20-1$Zürich, Langmauerstrasse$D', 0.0, 'Tram 8', 'Tram']],\n",
       "      dtype=object)"
      ]
     },
     "execution_count": 79,
     "metadata": {},
     "output_type": "execute_result"
    }
   ],
   "source": [
    "\n",
    "departure.head(2).values"
   ]
  },
  {
   "cell_type": "code",
   "execution_count": 81,
   "id": "1eb2c5a5-5488-4347-a17a-294633032476",
   "metadata": {},
   "outputs": [
    {
     "ename": "KeyError",
     "evalue": "'69-3-Y-j20-1$Reppischhof$A'",
     "output_type": "error",
     "traceback": [
      "\u001b[0;31m---------------------------------------------------------------------------\u001b[0m",
      "\u001b[0;31mKeyError\u001b[0m                                  Traceback (most recent call last)",
      "\u001b[0;32m<ipython-input-81-28986315b20c>\u001b[0m in \u001b[0;36m<module>\u001b[0;34m\u001b[0m\n\u001b[1;32m     24\u001b[0m     \u001b[0mcurrent_id\u001b[0m \u001b[0;34m=\u001b[0m \u001b[0mrow\u001b[0m\u001b[0;34m[\u001b[0m\u001b[0;34m'end_route_stop_id'\u001b[0m\u001b[0;34m]\u001b[0m\u001b[0;34m\u001b[0m\u001b[0;34m\u001b[0m\u001b[0m\n\u001b[1;32m     25\u001b[0m     \u001b[0mprevious_id\u001b[0m \u001b[0;34m=\u001b[0m \u001b[0mcurrent_id\u001b[0m\u001b[0;34m[\u001b[0m\u001b[0;34m:\u001b[0m\u001b[0;34m-\u001b[0m\u001b[0;36m2\u001b[0m\u001b[0;34m]\u001b[0m \u001b[0;34m+\u001b[0m \u001b[0;34m'$A'\u001b[0m\u001b[0;34m\u001b[0m\u001b[0;34m\u001b[0m\u001b[0m\n\u001b[0;32m---> 26\u001b[0;31m     \u001b[0mroutestops_dep\u001b[0m\u001b[0;34m[\u001b[0m\u001b[0mcurrent_id\u001b[0m\u001b[0;34m]\u001b[0m\u001b[0;34m.\u001b[0m\u001b[0mset_prev_stop\u001b[0m\u001b[0;34m(\u001b[0m\u001b[0mroutestops_arr\u001b[0m\u001b[0;34m[\u001b[0m\u001b[0mprevious_id\u001b[0m\u001b[0;34m]\u001b[0m\u001b[0;34m)\u001b[0m\u001b[0;34m\u001b[0m\u001b[0;34m\u001b[0m\u001b[0m\n\u001b[0m",
      "\u001b[0;31mKeyError\u001b[0m: '69-3-Y-j20-1$Reppischhof$A'"
     ]
    }
   ],
   "source": [
    "routestops_arr, routestops_dep = {}, {}\n",
    "for i, row in terminus.iterrows():\n",
    "    routestops_arr[row['end_route_stop_id']] = RouteStopArr(row['end_route_stop_id'],row['STOP_NAME'],\n",
    "                                                            stations[row['STOP_NAME']], row['stop_sequence'], \n",
    "                                                            row['route_name'], row['transport_type'], 0, None)\n",
    "    \n",
    "for i, row in arrivals.iterrows():\n",
    "    routestops_arr[row['end_route_stop_id']] = RouteStopArr(row['end_route_stop_id'],row['STOP_NAME'],\n",
    "                                                            stations[row['STOP_NAME']], row['stop_sequence'], \n",
    "                                                            row['route_name'], row['transport_type'], \n",
    "                                                            row['travel_time'], None)\n",
    "    \n",
    "for i, row in departure.iterrows():\n",
    "    routestops_dep[row['end_route_stop_id']] = RouteStopDep(row['end_route_stop_id'],row['STOP_NAME'],\n",
    "                                                            stations[row['STOP_NAME']], -1, \n",
    "                                                            row['route_name'], row['transport_type'], \n",
    "                                                            row['travel_time'], None)\n",
    "\n",
    "\n",
    "for i, row in arrivals.iterrows():\n",
    "    routestops_arr[ row['end_route_stop_id']].set_prev_stop(routestops_dep[row['target_end_route_stop_id']])\n",
    "    \n",
    "for i, row in departure.iterrows():\n",
    "    current_id = row['end_route_stop_id']\n",
    "    previous_id = current_id[:-2] + '$A'\n",
    "    routestops_dep[current_id].set_prev_stop(routestops_arr[previous_id])"
   ]
  },
  {
   "cell_type": "code",
   "execution_count": 84,
   "id": "991a5e32-da79-47b2-bf12-bcf4b6877e93",
   "metadata": {},
   "outputs": [
    {
     "data": {
      "text/plain": [
       "0"
      ]
     },
     "execution_count": 84,
     "metadata": {},
     "output_type": "execute_result"
    }
   ],
   "source": [
    "arrivals.end_route_stop_id.str.startswith(\"69-3-Y-j20-1$Reppisc\").sum()"
   ]
  },
  {
   "cell_type": "markdown",
   "id": "4dd77720-63cd-4e8f-ae3b-de4e2bb37011",
   "metadata": {},
   "source": [
    "# init timetable"
   ]
  },
  {
   "cell_type": "code",
   "execution_count": 7,
   "id": "604f1540-8dd1-48f9-bb03-d0bc214c9652",
   "metadata": {},
   "outputs": [
    {
     "data": {
      "text/html": [
       "<div>\n",
       "<style scoped>\n",
       "    .dataframe tbody tr th:only-of-type {\n",
       "        vertical-align: middle;\n",
       "    }\n",
       "\n",
       "    .dataframe tbody tr th {\n",
       "        vertical-align: top;\n",
       "    }\n",
       "\n",
       "    .dataframe thead th {\n",
       "        text-align: right;\n",
       "    }\n",
       "</style>\n",
       "<table border=\"1\" class=\"dataframe\">\n",
       "  <thead>\n",
       "    <tr style=\"text-align: right;\">\n",
       "      <th></th>\n",
       "      <th>route_stop_id</th>\n",
       "      <th>arrival_time_complete_unix</th>\n",
       "      <th>departure_time_complete_unix</th>\n",
       "      <th>route_id</th>\n",
       "      <th>stop_id</th>\n",
       "      <th>trip_id</th>\n",
       "      <th>end</th>\n",
       "      <th>end_route_stop_id</th>\n",
       "    </tr>\n",
       "  </thead>\n",
       "  <tbody>\n",
       "    <tr>\n",
       "      <th>0</th>\n",
       "      <td>26-797-j20-1$Oberhasli, Moosacker</td>\n",
       "      <td>1.589388e+09</td>\n",
       "      <td>1.589388e+09</td>\n",
       "      <td>26-797-j20-1</td>\n",
       "      <td>8590731</td>\n",
       "      <td>104.TA.26-797-j20-1.4.R</td>\n",
       "      <td>D</td>\n",
       "      <td>26-797-j20-1$Oberhasli, Moosacker$D</td>\n",
       "    </tr>\n",
       "    <tr>\n",
       "      <th>1</th>\n",
       "      <td>26-2-A-j20-1$Zürich Tiefenbrunnen, Bahnhof</td>\n",
       "      <td>1.589371e+09</td>\n",
       "      <td>1.589371e+09</td>\n",
       "      <td>26-2-A-j20-1</td>\n",
       "      <td>8576182</td>\n",
       "      <td>1096.TA.26-2-A-j20-1.6.H</td>\n",
       "      <td>A</td>\n",
       "      <td>26-2-A-j20-1$Zürich Tiefenbrunnen, Bahnhof$A</td>\n",
       "    </tr>\n",
       "    <tr>\n",
       "      <th>2</th>\n",
       "      <td>26-80-j20-1$Zürich, Rautistrasse</td>\n",
       "      <td>1.589391e+09</td>\n",
       "      <td>1.589391e+09</td>\n",
       "      <td>26-80-j20-1</td>\n",
       "      <td>8591311</td>\n",
       "      <td>1096.TA.26-80-j20-1.11.R</td>\n",
       "      <td>D</td>\n",
       "      <td>26-80-j20-1$Zürich, Rautistrasse$D</td>\n",
       "    </tr>\n",
       "    <tr>\n",
       "      <th>3</th>\n",
       "      <td>26-80-j20-1$Zürich, Zwielplatz</td>\n",
       "      <td>1.589392e+09</td>\n",
       "      <td>1.589392e+09</td>\n",
       "      <td>26-80-j20-1</td>\n",
       "      <td>8591446</td>\n",
       "      <td>1096.TA.26-80-j20-1.11.R</td>\n",
       "      <td>A</td>\n",
       "      <td>26-80-j20-1$Zürich, Zwielplatz$A</td>\n",
       "    </tr>\n",
       "    <tr>\n",
       "      <th>4</th>\n",
       "      <td>26-11-j20-1$Zürich, Bad Allenmoos</td>\n",
       "      <td>1.589389e+09</td>\n",
       "      <td>1.589389e+09</td>\n",
       "      <td>26-11-j20-1</td>\n",
       "      <td>8591053</td>\n",
       "      <td>1103.TA.26-11-j20-1.21.R</td>\n",
       "      <td>D</td>\n",
       "      <td>26-11-j20-1$Zürich, Bad Allenmoos$D</td>\n",
       "    </tr>\n",
       "    <tr>\n",
       "      <th>...</th>\n",
       "      <td>...</td>\n",
       "      <td>...</td>\n",
       "      <td>...</td>\n",
       "      <td>...</td>\n",
       "      <td>...</td>\n",
       "      <td>...</td>\n",
       "      <td>...</td>\n",
       "      <td>...</td>\n",
       "    </tr>\n",
       "    <tr>\n",
       "      <th>995</th>\n",
       "      <td>26-309-j20-1$Dietikon, Pestalozzi</td>\n",
       "      <td>1.589392e+09</td>\n",
       "      <td>1.589392e+09</td>\n",
       "      <td>26-309-j20-1</td>\n",
       "      <td>8590523</td>\n",
       "      <td>60.TA.26-309-j20-1.1.R</td>\n",
       "      <td>D</td>\n",
       "      <td>26-309-j20-1$Dietikon, Pestalozzi$D</td>\n",
       "    </tr>\n",
       "    <tr>\n",
       "      <th>996</th>\n",
       "      <td>26-131-j20-1$Horgen, Bergli</td>\n",
       "      <td>1.589406e+09</td>\n",
       "      <td>1.589406e+09</td>\n",
       "      <td>26-131-j20-1</td>\n",
       "      <td>8573555</td>\n",
       "      <td>611.TA.26-131-j20-1.4.R</td>\n",
       "      <td>A</td>\n",
       "      <td>26-131-j20-1$Horgen, Bergli$A</td>\n",
       "    </tr>\n",
       "    <tr>\n",
       "      <th>997</th>\n",
       "      <td>26-759-j20-1$Wallisellen, Herti</td>\n",
       "      <td>1.589391e+09</td>\n",
       "      <td>1.589391e+09</td>\n",
       "      <td>26-759-j20-1</td>\n",
       "      <td>8590889</td>\n",
       "      <td>622.TA.26-759-j20-1.5.R</td>\n",
       "      <td>A</td>\n",
       "      <td>26-759-j20-1$Wallisellen, Herti$A</td>\n",
       "    </tr>\n",
       "    <tr>\n",
       "      <th>998</th>\n",
       "      <td>26-7-A-j20-1$Zürich, Mattenhof</td>\n",
       "      <td>1.589387e+09</td>\n",
       "      <td>1.589387e+09</td>\n",
       "      <td>26-7-A-j20-1</td>\n",
       "      <td>8591271</td>\n",
       "      <td>628.TA.26-7-A-j20-1.1.R</td>\n",
       "      <td>A</td>\n",
       "      <td>26-7-A-j20-1$Zürich, Mattenhof$A</td>\n",
       "    </tr>\n",
       "    <tr>\n",
       "      <th>999</th>\n",
       "      <td>26-524-j20-1$Kloten, Freienberg</td>\n",
       "      <td>1.589347e+09</td>\n",
       "      <td>1.589347e+09</td>\n",
       "      <td>26-524-j20-1</td>\n",
       "      <td>8573232</td>\n",
       "      <td>63.TA.26-524-j20-1.3.H</td>\n",
       "      <td>A</td>\n",
       "      <td>26-524-j20-1$Kloten, Freienberg$A</td>\n",
       "    </tr>\n",
       "  </tbody>\n",
       "</table>\n",
       "<p>1000 rows × 8 columns</p>\n",
       "</div>"
      ],
      "text/plain": [
       "                                  route_stop_id  arrival_time_complete_unix  \\\n",
       "0             26-797-j20-1$Oberhasli, Moosacker                1.589388e+09   \n",
       "1    26-2-A-j20-1$Zürich Tiefenbrunnen, Bahnhof                1.589371e+09   \n",
       "2              26-80-j20-1$Zürich, Rautistrasse                1.589391e+09   \n",
       "3                26-80-j20-1$Zürich, Zwielplatz                1.589392e+09   \n",
       "4             26-11-j20-1$Zürich, Bad Allenmoos                1.589389e+09   \n",
       "..                                          ...                         ...   \n",
       "995           26-309-j20-1$Dietikon, Pestalozzi                1.589392e+09   \n",
       "996                 26-131-j20-1$Horgen, Bergli                1.589406e+09   \n",
       "997             26-759-j20-1$Wallisellen, Herti                1.589391e+09   \n",
       "998              26-7-A-j20-1$Zürich, Mattenhof                1.589387e+09   \n",
       "999             26-524-j20-1$Kloten, Freienberg                1.589347e+09   \n",
       "\n",
       "     departure_time_complete_unix      route_id  stop_id  \\\n",
       "0                    1.589388e+09  26-797-j20-1  8590731   \n",
       "1                    1.589371e+09  26-2-A-j20-1  8576182   \n",
       "2                    1.589391e+09   26-80-j20-1  8591311   \n",
       "3                    1.589392e+09   26-80-j20-1  8591446   \n",
       "4                    1.589389e+09   26-11-j20-1  8591053   \n",
       "..                            ...           ...      ...   \n",
       "995                  1.589392e+09  26-309-j20-1  8590523   \n",
       "996                  1.589406e+09  26-131-j20-1  8573555   \n",
       "997                  1.589391e+09  26-759-j20-1  8590889   \n",
       "998                  1.589387e+09  26-7-A-j20-1  8591271   \n",
       "999                  1.589347e+09  26-524-j20-1  8573232   \n",
       "\n",
       "                      trip_id end  \\\n",
       "0     104.TA.26-797-j20-1.4.R   D   \n",
       "1    1096.TA.26-2-A-j20-1.6.H   A   \n",
       "2    1096.TA.26-80-j20-1.11.R   D   \n",
       "3    1096.TA.26-80-j20-1.11.R   A   \n",
       "4    1103.TA.26-11-j20-1.21.R   D   \n",
       "..                        ...  ..   \n",
       "995    60.TA.26-309-j20-1.1.R   D   \n",
       "996   611.TA.26-131-j20-1.4.R   A   \n",
       "997   622.TA.26-759-j20-1.5.R   A   \n",
       "998   628.TA.26-7-A-j20-1.1.R   A   \n",
       "999    63.TA.26-524-j20-1.3.H   A   \n",
       "\n",
       "                                end_route_stop_id  \n",
       "0             26-797-j20-1$Oberhasli, Moosacker$D  \n",
       "1    26-2-A-j20-1$Zürich Tiefenbrunnen, Bahnhof$A  \n",
       "2              26-80-j20-1$Zürich, Rautistrasse$D  \n",
       "3                26-80-j20-1$Zürich, Zwielplatz$A  \n",
       "4             26-11-j20-1$Zürich, Bad Allenmoos$D  \n",
       "..                                            ...  \n",
       "995           26-309-j20-1$Dietikon, Pestalozzi$D  \n",
       "996                 26-131-j20-1$Horgen, Bergli$A  \n",
       "997             26-759-j20-1$Wallisellen, Herti$A  \n",
       "998              26-7-A-j20-1$Zürich, Mattenhof$A  \n",
       "999             26-524-j20-1$Kloten, Freienberg$A  \n",
       "\n",
       "[1000 rows x 8 columns]"
      ]
     },
     "execution_count": 7,
     "metadata": {},
     "output_type": "execute_result"
    }
   ],
   "source": [
    "# Dict[RouteStopDep, Tuple[List[int], List[Distrib]]]\n",
    "pd.read_csv(join(DATA, 'timetable', 'timetable.csv'), nrows=1000)"
   ]
  },
  {
   "cell_type": "code",
   "execution_count": null,
   "id": "583e578e-835d-4e87-9474-04e5411b3a6e",
   "metadata": {},
   "outputs": [],
   "source": []
  }
 ],
 "metadata": {
  "kernelspec": {
   "display_name": "Python 3",
   "language": "python",
   "name": "python3"
  },
  "language_info": {
   "codemirror_mode": {
    "name": "ipython",
    "version": 3
   },
   "file_extension": ".py",
   "mimetype": "text/x-python",
   "name": "python",
   "nbconvert_exporter": "python",
   "pygments_lexer": "ipython3",
   "version": "3.9.7"
  }
 },
 "nbformat": 4,
 "nbformat_minor": 5
}
