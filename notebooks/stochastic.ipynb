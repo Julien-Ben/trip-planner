{
 "cells": [
  {
   "cell_type": "markdown",
   "id": "3d5d6930-23d9-4997-89c5-13226b0ea1dc",
   "metadata": {},
   "source": [
    "# Building the stochastic timetables\n",
    "\n",
    "### Creating Spark Session"
   ]
  },
  {
   "cell_type": "code",
   "execution_count": 32,
   "id": "94fb1553-9f7b-4fc5-84ed-3c48bbcd9549",
   "metadata": {},
   "outputs": [
    {
     "name": "stdout",
     "output_type": "stream",
     "text": [
      "The sparkmagic.magics extension is already loaded. To reload it, use:\n",
      "  %reload_ext sparkmagic.magics\n"
     ]
    }
   ],
   "source": [
    "import os\n",
    "%load_ext sparkmagic.magics\n",
    "from datetime import datetime\n",
    "username = os.environ['RENKU_USERNAME']\n",
    "server = server = \"http://iccluster029.iccluster.epfl.ch:8998\"\n",
    "from IPython import get_ipython\n",
    "get_ipython().run_cell_magic('spark', line=\"config\", \n",
    "                             cell=\"\"\"{{ \"name\":\"{0}-final_project\", \"executorMemory\":\"4G\", \"executorCores\":4, \"numExecutors\":10 }}\"\"\".format(username))\n",
    "\n"
   ]
  },
  {
   "cell_type": "code",
   "execution_count": 33,
   "id": "104b4f00-c53b-4792-9cef-689a8187aacd",
   "metadata": {},
   "outputs": [],
   "source": [
    "get_ipython().run_line_magic(\n",
    "    \"spark\", \"add -s {0}-final_project -l python -u {1} -k\".format(username, server)\n",
    ")"
   ]
  },
  {
   "cell_type": "code",
   "execution_count": 34,
   "id": "2aefbc18-5151-4d85-854a-f4ab0835c58e",
   "metadata": {},
   "outputs": [
    {
     "data": {
      "application/vnd.jupyter.widget-view+json": {
       "model_id": "",
       "version_major": 2,
       "version_minor": 0
      },
      "text/plain": [
       "FloatProgress(value=0.0, bar_style='info', description='Progress:', layout=Layout(height='25px', width='50%'),…"
      ]
     },
     "metadata": {},
     "output_type": "display_data"
    }
   ],
   "source": [
    "%%spark\n",
    "## SPARK IMPORTS\n",
    "from functools import reduce\n",
    "from pyspark.sql.types import ArrayType, StringType\n",
    "from pyspark.sql.functions import *\n",
    "\n",
    "REMOTE_PATH = \"/group/abiskop1/project_data/\""
   ]
  },
  {
   "cell_type": "code",
   "execution_count": 53,
   "id": "21a15811-2205-4bf6-a90e-7e78cfc82278",
   "metadata": {},
   "outputs": [
    {
     "data": {
      "application/vnd.jupyter.widget-view+json": {
       "model_id": "",
       "version_major": 2,
       "version_minor": 0
      },
      "text/plain": [
       "FloatProgress(value=0.0, bar_style='info', description='Progress:', layout=Layout(height='25px', width='50%'),…"
      ]
     },
     "metadata": {},
     "output_type": "display_data"
    },
    {
     "name": "stdout",
     "output_type": "stream",
     "text": [
      "The Schema is :\n",
      "DataFrame[betriebstag: string, fahrt_bezeichner: string, betreiber_id: string, betreiber_abk: string, betreiber_name: string, produkt_id: string, linien_id: string, linien_text: string, umlauf_id: string, verkehrsmittel_text: string, zusatzfahrt_tf: string, faellt_aus_tf: string, bpuic: string, haltestellen_name: string, ankunftszeit: string, an_prognose: string, an_prognose_status: string, abfahrtszeit: string, ab_prognose: string, ab_prognose_status: string, durchfahrt_tf: string, year: int, month: int]"
     ]
    }
   ],
   "source": [
    "%%spark\n",
    "real_time = spark.read.orc(\"/data/sbb/part_orc/istdaten\").dropna()\n",
    "\n",
    "arrivals = spark.read.csv(REMOTE_PATH + \"arrivalsRouteStops.csv\", header='true', inferSchema='true')\n",
    "arrivals = arrivals.withColumn(\"route_id\", udf(lambda end_id : end_id.split(\"$\")[0])(col(\"end_route_stop_id\")))\n",
    "\n",
    "print(\"The Schema is :\")\n",
    "real_time"
   ]
  },
  {
   "cell_type": "markdown",
   "id": "2eb46a03-c7e8-4584-8c95-83bfdcb57865",
   "metadata": {},
   "source": [
    "As I don't speak german :"
   ]
  },
  {
   "cell_type": "code",
   "execution_count": 54,
   "id": "b7674767-2b88-4d25-92ec-43d7951c00c9",
   "metadata": {},
   "outputs": [
    {
     "data": {
      "application/vnd.jupyter.widget-view+json": {
       "model_id": "",
       "version_major": 2,
       "version_minor": 0
      },
      "text/plain": [
       "FloatProgress(value=0.0, bar_style='info', description='Progress:', layout=Layout(height='25px', width='50%'),…"
      ]
     },
     "metadata": {},
     "output_type": "display_data"
    },
    {
     "name": "stdout",
     "output_type": "stream",
     "text": [
      "Final Schema :\n",
      "DataFrame[date: string, trip_id: string, betreiber_id: string, operator: string, operator_name: string, produkt_id: string,  for trains, this is the train number: string, type_service_1: string, umlauf_id: string, type_service_2: string, additional_trip: string, trip_failed: string, bpuic: string, STOP_NAME: string, arrival_time_schedule: string, arrival_time_actual: string, measure_method_arrival: string, departure_time_schedule: string, departure_time_actual: string, measure_method_arrival: string, does_stop_here: string, year: int, month: int]"
     ]
    }
   ],
   "source": [
    "%%spark\n",
    "mapping =    [['BETRIEBSTAG', 'date'],\n",
    "    ['FAHRT_BEZEICHNER', \"trip_id\"],\n",
    "    ['BETREIBER_ABK', 'operator'],\n",
    "    [\"BETREIBER_NAME\", \"operator_name\"],\n",
    "    [\"PRODUCT_ID\", \"type_transport\"],\n",
    "    [\"LINIEN_ID\",\" for trains, this is the train number\"],\n",
    "    [\"LINIEN_TEXT\",\"type_service_1\"], \n",
    "    [\"VERKEHRSMITTEL_TEXT\",\"type_service_2\"],\n",
    "    [\"ZUSATZFAHRT_TF\",\"additional_trip\"],\n",
    "    [\"FAELLT_AUS_TF\",\"trip_failed\"],\n",
    "    [\"HALTESTELLEN_NAME\",\"STOP_NAME\"],\n",
    "    [\"ANKUNFTSZEIT\",\"arrival_time_schedule\"],\n",
    "    [\"AN_PROGNOSE\",\"arrival_time_actual\"],\n",
    "    [\"AN_PROGNOSE_STATUS\",\"measure_method_arrival\"],\n",
    "    [\"ABFAHRTSZEIT\",\"departure_time_schedule\"],\n",
    "    [\"AB_PROGNOSE\",\"departure_time_actual\"],\n",
    "    [\"AB_PROGNOSE_STATUS\",\"measure_method_arrival\"],\n",
    "    [\"DURCHFAHRT_TF\",\"does_stop_here\"]]\n",
    "\n",
    "\n",
    "for de_name, en_name in mapping:\n",
    "    real_time = real_time.withColumnRenamed(de_name, en_name)\n",
    "    \n",
    "print(\"Final Schema :\")\n",
    "real_time"
   ]
  },
  {
   "cell_type": "markdown",
   "id": "b4b70568-387d-43e3-bceb-21b655428aa6",
   "metadata": {},
   "source": [
    "### Restricting the station to the selected ones where transports arrive"
   ]
  },
  {
   "cell_type": "code",
   "execution_count": 55,
   "id": "de37ec3f-f83a-4de7-b828-7076a7f7cffd",
   "metadata": {},
   "outputs": [
    {
     "data": {
      "application/vnd.jupyter.widget-view+json": {
       "model_id": "",
       "version_major": 2,
       "version_minor": 0
      },
      "text/plain": [
       "FloatProgress(value=0.0, bar_style='info', description='Progress:', layout=Layout(height='25px', width='50%'),…"
      ]
     },
     "metadata": {},
     "output_type": "display_data"
    }
   ],
   "source": [
    "%%spark\n",
    "\n",
    "stations = arrivals.select(\"STOP_NAME\").dropDuplicates()\n",
    "#print(\"Before selection real_data size : \", real_time.count())\n",
    "real_time = real_time.join(stations, \"STOP_NAME\")\n",
    "#print(\"After selection real_data size : \", real_time.count())"
   ]
  },
  {
   "cell_type": "markdown",
   "id": "8e99434a-d709-424b-a9fd-f3cbb7ee6636",
   "metadata": {},
   "source": [
    "## EDA of the delay distribution"
   ]
  },
  {
   "cell_type": "code",
   "execution_count": 56,
   "id": "77237b26-f173-4df8-8a9f-9603450fe10e",
   "metadata": {},
   "outputs": [
    {
     "data": {
      "application/vnd.jupyter.widget-view+json": {
       "model_id": "",
       "version_major": 2,
       "version_minor": 0
      },
      "text/plain": [
       "FloatProgress(value=0.0, bar_style='info', description='Progress:', layout=Layout(height='25px', width='50%'),…"
      ]
     },
     "metadata": {},
     "output_type": "display_data"
    }
   ],
   "source": [
    "%%spark\n",
    "real_time = real_time.withColumn('arrival_time_schedule', unix_timestamp('arrival_time_schedule', \"dd.MM.yyyy HH:mm\"))\n",
    "real_time = real_time.withColumn('arrival_time_actual', unix_timestamp('arrival_time_actual', \"dd.MM.yyyy HH:mm\"))\n",
    "real_time = real_time.withColumn(\"arrival_delay\", col(\"arrival_time_actual\") - col(\"arrival_time_schedule\"))"
   ]
  },
  {
   "cell_type": "code",
   "execution_count": 25,
   "id": "668c03fa-29f6-4e65-8cda-36056122a340",
   "metadata": {},
   "outputs": [
    {
     "data": {
      "application/vnd.jupyter.widget-view+json": {
       "model_id": "",
       "version_major": 2,
       "version_minor": 0
      },
      "text/plain": [
       "FloatProgress(value=0.0, bar_style='info', description='Progress:', layout=Layout(height='25px', width='50%'),…"
      ]
     },
     "metadata": {},
     "output_type": "display_data"
    }
   ],
   "source": [
    "%%spark\n",
    "analysis = real_time.filter(\"year == 2021\").filter(\"month == 1\")\n",
    "\n",
    "delays_distrib = analysis.select([\"STOP_NAME\", \"produkt_id\", \"arrival_delay\"]).groupBy([\"STOP_NAME\", \"produkt_id\",\"arrival_delay\"]).count().cache()"
   ]
  },
  {
   "cell_type": "markdown",
   "id": "f8838835-a675-47d5-b819-819334e34174",
   "metadata": {},
   "source": [
    "#### test with :\n",
    "\n",
    "- Schützenmattstrasse : Bus, tram\n",
    "- Länggasse\n",
    "- Vacallo, Piazza\n",
    "- Studen BE"
   ]
  },
  {
   "cell_type": "code",
   "execution_count": 48,
   "id": "29c30e81-c6dd-4d25-9ef2-7efd5bf39c1a",
   "metadata": {},
   "outputs": [],
   "source": [
    "import matplotlib.pyplot as plt\n",
    "import seaborn as sns\n",
    "\n",
    "\n",
    "def plot_delay_dist(sample_dist):\n",
    "    plt.figure(figsize=(20, 6))\n",
    "    station = sample_dist.STOP_NAME.iloc[0]\n",
    "    transport_mean = sample_dist.produkt_id.iloc[0]\n",
    "    sample_dist[\"arrival_delay\"] = sample_dist[\"arrival_delay\"] / 60\n",
    "    g = sns.barplot(data=sample_dist.sort_values(\"arrival_delay\"), x=\"arrival_delay\", y=\"count\")\n",
    "    g.set_xticklabels(g.get_xticklabels(), rotation=45)\n",
    "    print(\"STATION :\", station)\n",
    "    print(\"MEAN OF TRANSPORTATION : \", transport_mean);"
   ]
  },
  {
   "cell_type": "code",
   "execution_count": 47,
   "id": "9a513b45-0534-4344-a806-295d073597d4",
   "metadata": {},
   "outputs": [
    {
     "data": {
      "application/vnd.jupyter.widget-view+json": {
       "model_id": "",
       "version_major": 2,
       "version_minor": 0
      },
      "text/plain": [
       "FloatProgress(value=0.0, bar_style='info', description='Progress:', layout=Layout(height='25px', width='50%'),…"
      ]
     },
     "metadata": {},
     "output_type": "display_data"
    },
    {
     "data": {
      "application/vnd.jupyter.widget-view+json": {
       "model_id": "",
       "version_major": 2,
       "version_minor": 0
      },
      "text/plain": [
       "FloatProgress(value=0.0, bar_style='info', description='Progress:', layout=Layout(height='25px', width='50%'),…"
      ]
     },
     "metadata": {},
     "output_type": "display_data"
    }
   ],
   "source": [
    "%%spark -o sample_dist\n",
    "sample_dist = delays_distrib.filter(delays_distrib.STOP_NAME ==  \"Zürich, Hardplatz\").filter(delays_distrib.produkt_id == \"Bus\")"
   ]
  },
  {
   "cell_type": "code",
   "execution_count": 49,
   "id": "41b1390a-f574-4cef-9eee-aea7e2ae9fc0",
   "metadata": {},
   "outputs": [
    {
     "name": "stdout",
     "output_type": "stream",
     "text": [
      "STATION : Zürich, Hardplatz\n",
      "MEAN OF TRANSPORTATION :  Bus\n"
     ]
    },
    {
     "data": {
      "image/png": "[encoded data removed]",
      "text/plain": [
       "<Figure size 1440x432 with 1 Axes>"
      ]
     },
     "metadata": {
      "needs_background": "light"
     },
     "output_type": "display_data"
    }
   ],
   "source": [
    "plot_delay_dist(sample_dist)"
   ]
  },
  {
   "cell_type": "code",
   "execution_count": 50,
   "id": "762ba5cc-def1-4f6d-a19a-472034fe24c6",
   "metadata": {},
   "outputs": [
    {
     "data": {
      "application/vnd.jupyter.widget-view+json": {
       "model_id": "",
       "version_major": 2,
       "version_minor": 0
      },
      "text/plain": [
       "FloatProgress(value=0.0, bar_style='info', description='Progress:', layout=Layout(height='25px', width='50%'),…"
      ]
     },
     "metadata": {},
     "output_type": "display_data"
    },
    {
     "data": {
      "application/vnd.jupyter.widget-view+json": {
       "model_id": "",
       "version_major": 2,
       "version_minor": 0
      },
      "text/plain": [
       "FloatProgress(value=0.0, bar_style='info', description='Progress:', layout=Layout(height='25px', width='50%'),…"
      ]
     },
     "metadata": {},
     "output_type": "display_data"
    }
   ],
   "source": [
    "%%spark -o sample_dist\n",
    "sample_dist = delays_distrib.filter(delays_distrib.STOP_NAME ==  \"Schützenmattstrasse\").filter(delays_distrib.produkt_id == \"Tram\")"
   ]
  },
  {
   "cell_type": "code",
   "execution_count": 51,
   "id": "0d1605ec-6df9-4114-8f85-43b4041fb926",
   "metadata": {},
   "outputs": [
    {
     "name": "stdout",
     "output_type": "stream",
     "text": [
      "STATION : Schützenmattstrasse\n",
      "MEAN OF TRANSPORTATION :  Tram\n"
     ]
    },
    {
     "data": {
      "image/png": "[encoded data removed]",
      "text/plain": [
       "<Figure size 1440x432 with 1 Axes>"
      ]
     },
     "metadata": {
      "needs_background": "light"
     },
     "output_type": "display_data"
    }
   ],
   "source": [
    "plot_delay_dist(sample_dist)"
   ]
  },
  {
   "cell_type": "code",
   "execution_count": 52,
   "id": "aa9b585b-4a14-4113-8e70-2877688c1e23",
   "metadata": {},
   "outputs": [
    {
     "data": {
      "application/vnd.jupyter.widget-view+json": {
       "model_id": "",
       "version_major": 2,
       "version_minor": 0
      },
      "text/plain": [
       "FloatProgress(value=0.0, bar_style='info', description='Progress:', layout=Layout(height='25px', width='50%'),…"
      ]
     },
     "metadata": {},
     "output_type": "display_data"
    },
    {
     "data": {
      "application/vnd.jupyter.widget-view+json": {
       "model_id": "",
       "version_major": 2,
       "version_minor": 0
      },
      "text/plain": [
       "FloatProgress(value=0.0, bar_style='info', description='Progress:', layout=Layout(height='25px', width='50%'),…"
      ]
     },
     "metadata": {},
     "output_type": "display_data"
    }
   ],
   "source": [
    "%%spark -o sample_dist\n",
    "sample_dist = delays_distrib.filter(delays_distrib.STOP_NAME ==  \"Schützenmattstrasse\").filter(delays_distrib.produkt_id == \"Bus\")"
   ]
  },
  {
   "cell_type": "code",
   "execution_count": 53,
   "id": "3fe94f4b-4b55-415f-b92f-552c28d4cdbc",
   "metadata": {},
   "outputs": [
    {
     "name": "stdout",
     "output_type": "stream",
     "text": [
      "STATION : Schützenmattstrasse\n",
      "MEAN OF TRANSPORTATION :  Bus\n"
     ]
    },
    {
     "data": {
      "image/png": "[encoded data removed]",
      "text/plain": [
       "<Figure size 1440x432 with 1 Axes>"
      ]
     },
     "metadata": {
      "needs_background": "light"
     },
     "output_type": "display_data"
    }
   ],
   "source": [
    "plot_delay_dist(sample_dist)"
   ]
  },
  {
   "cell_type": "code",
   "execution_count": 55,
   "id": "25788058-9a69-4bfb-8af5-bdabf6b14db3",
   "metadata": {},
   "outputs": [
    {
     "data": {
      "application/vnd.jupyter.widget-view+json": {
       "model_id": "",
       "version_major": 2,
       "version_minor": 0
      },
      "text/plain": [
       "FloatProgress(value=0.0, bar_style='info', description='Progress:', layout=Layout(height='25px', width='50%'),…"
      ]
     },
     "metadata": {},
     "output_type": "display_data"
    },
    {
     "data": {
      "application/vnd.jupyter.widget-view+json": {
       "model_id": "",
       "version_major": 2,
       "version_minor": 0
      },
      "text/plain": [
       "FloatProgress(value=0.0, bar_style='info', description='Progress:', layout=Layout(height='25px', width='50%'),…"
      ]
     },
     "metadata": {},
     "output_type": "display_data"
    }
   ],
   "source": [
    "%%spark -o sample_dist\n",
    "sample_dist = delays_distrib.filter(delays_distrib.STOP_NAME ==  \"Studen BE\").filter(delays_distrib.produkt_id == \"Zug\")"
   ]
  },
  {
   "cell_type": "code",
   "execution_count": 57,
   "id": "1ac97bdc-20cc-4b2f-b92a-d08d46d56f21",
   "metadata": {},
   "outputs": [
    {
     "name": "stdout",
     "output_type": "stream",
     "text": [
      "STATION : Studen BE\n",
      "MEAN OF TRANSPORTATION :  Zug\n"
     ]
    },
    {
     "data": {
      "image/png": "[encoded data removed]",
      "text/plain": [
       "<Figure size 1440x432 with 1 Axes>"
      ]
     },
     "metadata": {
      "needs_background": "light"
     },
     "output_type": "display_data"
    }
   ],
   "source": [
    "plot_delay_dist(sample_dist)"
   ]
  },
  {
   "cell_type": "code",
   "execution_count": 65,
   "id": "609b89ed-26be-4479-91f2-2851eb56a01b",
   "metadata": {},
   "outputs": [
    {
     "data": {
      "application/vnd.jupyter.widget-view+json": {
       "model_id": "",
       "version_major": 2,
       "version_minor": 0
      },
      "text/plain": [
       "FloatProgress(value=0.0, bar_style='info', description='Progress:', layout=Layout(height='25px', width='50%'),…"
      ]
     },
     "metadata": {},
     "output_type": "display_data"
    },
    {
     "data": {
      "application/vnd.jupyter.widget-view+json": {
       "model_id": "",
       "version_major": 2,
       "version_minor": 0
      },
      "text/plain": [
       "FloatProgress(value=0.0, bar_style='info', description='Progress:', layout=Layout(height='25px', width='50%'),…"
      ]
     },
     "metadata": {},
     "output_type": "display_data"
    }
   ],
   "source": [
    "%%spark -o sample_dist\n",
    "sample_dist = delays_distrib.filter(delays_distrib.STOP_NAME ==  \"Zürich, Oerlikerhus\").filter(delays_distrib.produkt_id == \"Tram\")"
   ]
  },
  {
   "cell_type": "code",
   "execution_count": 67,
   "id": "55719955-2967-487f-8495-502023487240",
   "metadata": {},
   "outputs": [
    {
     "name": "stdout",
     "output_type": "stream",
     "text": [
      "STATION : Zürich, Oerlikerhus\n",
      "MEAN OF TRANSPORTATION :  Tram\n"
     ]
    },
    {
     "data": {
      "image/png": "[encoded data removed]",
      "text/plain": [
       "<Figure size 1440x432 with 1 Axes>"
      ]
     },
     "metadata": {
      "needs_background": "light"
     },
     "output_type": "display_data"
    }
   ],
   "source": [
    "plot_delay_dist(sample_dist)"
   ]
  },
  {
   "cell_type": "code",
   "execution_count": 64,
   "id": "342fa31f-18ba-4591-a527-12e691218d0b",
   "metadata": {},
   "outputs": [
    {
     "data": {
      "application/vnd.jupyter.widget-view+json": {
       "model_id": "",
       "version_major": 2,
       "version_minor": 0
      },
      "text/plain": [
       "FloatProgress(value=0.0, bar_style='info', description='Progress:', layout=Layout(height='25px', width='50%'),…"
      ]
     },
     "metadata": {},
     "output_type": "display_data"
    },
    {
     "name": "stdout",
     "output_type": "stream",
     "text": [
      "+----------+\n",
      "|produkt_id|\n",
      "+----------+\n",
      "|      Tram|\n",
      "+----------+"
     ]
    }
   ],
   "source": [
    "%%spark\n",
    "#delays_distrib.filter(delays_distrib.STOP_NAME ==  \"Studen BE\").select(\"produkt_id\").dropDuplicates().show()\n",
    "delays_distrib.filter(delays_distrib.STOP_NAME == \"Zürich, Oerlikerhus\").select(\"produkt_id\").dropDuplicates().show(30)"
   ]
  },
  {
   "cell_type": "code",
   "execution_count": 160,
   "id": "addc24ec-ff25-4815-9d71-e0d132f2bb11",
   "metadata": {},
   "outputs": [
    {
     "data": {
      "application/vnd.jupyter.widget-view+json": {
       "model_id": "",
       "version_major": 2,
       "version_minor": 0
      },
      "text/plain": [
       "FloatProgress(value=0.0, bar_style='info', description='Progress:', layout=Layout(height='25px', width='50%'),…"
      ]
     },
     "metadata": {},
     "output_type": "display_data"
    },
    {
     "data": {
      "application/vnd.jupyter.widget-view+json": {
       "model_id": "",
       "version_major": 2,
       "version_minor": 0
      },
      "text/plain": [
       "FloatProgress(value=0.0, bar_style='info', description='Progress:', layout=Layout(height='25px', width='50%'),…"
      ]
     },
     "metadata": {},
     "output_type": "display_data"
    }
   ],
   "source": [
    "%%spark -o full_dist\n",
    "full_dist = delays_distrib.groupby(\"arrival_delay\").sum()"
   ]
  },
  {
   "cell_type": "code",
   "execution_count": 161,
   "id": "0a70e87d-cc0f-4b22-8b8d-27a56eebc9ba",
   "metadata": {},
   "outputs": [],
   "source": [
    "full_dist[\"arrival_delay\"] = full_dist[\"arrival_delay\"] / 60\n",
    "full_dist = full_dist[full_dist.arrival_delay < 20]\n",
    "full_dist = full_dist[full_dist.arrival_delay >= 0]"
   ]
  },
  {
   "cell_type": "code",
   "execution_count": 162,
   "id": "dc607947-1d9a-4b4a-8457-37cb70e86304",
   "metadata": {},
   "outputs": [
    {
     "data": {
      "image/png": "[encoded data removed]",
      "text/plain": [
       "<Figure size 1440x360 with 1 Axes>"
      ]
     },
     "metadata": {
      "needs_background": "light"
     },
     "output_type": "display_data"
    }
   ],
   "source": [
    "plt.subplots(figsize=(20, 5))\n",
    "#full_count = full_dist[\"sum(count)\"].sum()\n",
    "#full_dist[\"y\"] = full_dist[\"sum(count)\"] / full_count\n",
    "g = sns.barplot(data=full_dist.sort_values(\"arrival_delay\"), x=\"arrival_delay\", y=\"sum(count)\")\n",
    "g.set_xticklabels(g.get_xticklabels(), rotation=45);\n",
    "#plt.xlim([-10, 10]);"
   ]
  },
  {
   "cell_type": "markdown",
   "id": "05bfb645-aecd-42c2-b956-741afa01a361",
   "metadata": {},
   "source": [
    "### Get day of the `week` and `hour`"
   ]
  },
  {
   "cell_type": "code",
   "execution_count": 57,
   "id": "3dd41b15-089c-448f-a0c7-7701d4fa3244",
   "metadata": {},
   "outputs": [
    {
     "data": {
      "application/vnd.jupyter.widget-view+json": {
       "model_id": "",
       "version_major": 2,
       "version_minor": 0
      },
      "text/plain": [
       "FloatProgress(value=0.0, bar_style='info', description='Progress:', layout=Layout(height='25px', width='50%'),…"
      ]
     },
     "metadata": {},
     "output_type": "display_data"
    }
   ],
   "source": [
    "%%spark\n",
    "real_time = real_time.filter(\"arrival_delay is not NULL\")\n",
    "real_time = real_time.withColumn(\"day_of_week\", dayofweek(from_unixtime(col(\"arrival_time_schedule\"))))\n",
    "real_time = real_time.withColumn(\"hour\", hour(from_unixtime(col(\"arrival_time_schedule\"))))"
   ]
  },
  {
   "cell_type": "markdown",
   "id": "fac3214b-2e53-49f5-9a90-07e609ad10d8",
   "metadata": {},
   "source": [
    "### Get mean delay table"
   ]
  },
  {
   "cell_type": "code",
   "execution_count": 58,
   "id": "d99a5609-01ad-4091-9de1-6c39a003c676",
   "metadata": {},
   "outputs": [
    {
     "data": {
      "application/vnd.jupyter.widget-view+json": {
       "model_id": "",
       "version_major": 2,
       "version_minor": 0
      },
      "text/plain": [
       "FloatProgress(value=0.0, bar_style='info', description='Progress:', layout=Layout(height='25px', width='50%'),…"
      ]
     },
     "metadata": {},
     "output_type": "display_data"
    }
   ],
   "source": [
    "%%spark\n",
    "real_time = real_time.select([\"STOP_NAME\", \"produkt_id\", \"arrival_delay\", \"day_of_week\", \"hour\"]).dropna()\n",
    "real_time = real_time.withColumn(\"arrival_delay\", when(real_time[\"arrival_delay\"] < 0, 0).when(col(\"arrival_delay\").isNull(), 0).otherwise(col(\"arrival_delay\")))\n",
    "## creating the table\n",
    "finalCols = [\"STOP_NAME\", \"produkt_id\", \"day_of_week\", \"hour\"]\n",
    "real_time = real_time.groupBy(finalCols).mean()\\\n",
    "                     .select(finalCols + [\"avg(arrival_delay)\"])\\\n",
    "                     .dropDuplicates()"
   ]
  },
  {
   "cell_type": "code",
   "execution_count": 59,
   "id": "e169f5f8-12d7-41ae-953c-f85e3c2d2bc2",
   "metadata": {},
   "outputs": [
    {
     "data": {
      "application/vnd.jupyter.widget-view+json": {
       "model_id": "",
       "version_major": 2,
       "version_minor": 0
      },
      "text/plain": [
       "FloatProgress(value=0.0, bar_style='info', description='Progress:', layout=Layout(height='25px', width='50%'),…"
      ]
     },
     "metadata": {},
     "output_type": "display_data"
    }
   ],
   "source": [
    "%%spark\n",
    "real_time = real_time.withColumnRenamed(\"avg(arrival_delay)\", \"inv_lambda\")"
   ]
  },
  {
   "cell_type": "code",
   "execution_count": 20,
   "id": "e67fef3f-fa0d-4bd6-8e8d-9c23cd7e99f5",
   "metadata": {},
   "outputs": [
    {
     "data": {
      "application/vnd.jupyter.widget-view+json": {
       "model_id": "",
       "version_major": 2,
       "version_minor": 0
      },
      "text/plain": [
       "FloatProgress(value=0.0, bar_style='info', description='Progress:', layout=Layout(height='25px', width='50%'),…"
      ]
     },
     "metadata": {},
     "output_type": "display_data"
    }
   ],
   "source": [
    "%%spark\n",
    "real_time.coalesce(1).write.format(\"com.databricks.spark.csv\")\\\n",
    "   .option(\"header\", \"true\").save(REMOTE_PATH + \"delay_distrib_final.csv\")"
   ]
  },
  {
   "cell_type": "code",
   "execution_count": 43,
   "id": "1a4c0c11-87d2-4999-877d-88e5a332f8fc",
   "metadata": {},
   "outputs": [
    {
     "data": {
      "application/vnd.jupyter.widget-view+json": {
       "model_id": "",
       "version_major": 2,
       "version_minor": 0
      },
      "text/plain": [
       "FloatProgress(value=0.0, bar_style='info', description='Progress:', layout=Layout(height='25px', width='50%'),…"
      ]
     },
     "metadata": {},
     "output_type": "display_data"
    },
    {
     "name": "stdout",
     "output_type": "stream",
     "text": [
      "+--------------+---------+----------------+---------------+----------+----------+----+-----+---+\n",
      "|      route_id|agency_id|route_short_name|route_long_name|route_desc|route_type|year|month|day|\n",
      "+--------------+---------+----------------+---------------+----------+----------+----+-----+---+\n",
      "|   10-25-j20-1|       11|              25|               |    S-Bahn|       400|2020|   10| 28|\n",
      "|   10-27-j20-1|       82|              27|               |    S-Bahn|       400|2020|   10| 28|\n",
      "|  10-501-j20-1|      801|             501|               |       Bus|       700|2020|   10| 28|\n",
      "|  10-502-j20-1|      801|             502|               |       Bus|       700|2020|   10| 28|\n",
      "|  10-503-j20-1|      801|             503|               |       Bus|       700|2020|   10| 28|\n",
      "|  10-504-j20-1|      801|             504|               |       Bus|       700|2020|   10| 28|\n",
      "|  10-511-j20-1|      801|             511|               |       Bus|       700|2020|   10| 28|\n",
      "|  10-512-j20-1|      801|             512|               |       Bus|       700|2020|   10| 28|\n",
      "|  10-524-j20-1|      801|             524|               |       Bus|       700|2020|   10| 28|\n",
      "|10-541-A-j20-1|      856|             541|               |       Bus|       700|2020|   10| 28|\n",
      "|  10-541-j20-1|      856|             541|               |       Bus|       700|2020|   10| 28|\n",
      "|  10-542-j20-1|      856|             542|               |       Bus|       700|2020|   10| 28|\n",
      "|  10-543-j20-1|      856|             543|               |       Bus|       700|2020|   10| 28|\n",
      "|  10-544-j20-1|      856|             544|               |       Bus|       700|2020|   10| 28|\n",
      "|    10-6-j20-1|       11|               6|               |    S-Bahn|       400|2020|   10| 28|\n",
      "|10-736-A-j20-1|      856|             736|               |       Bus|       700|2020|   10| 28|\n",
      "|10-736-B-j20-1|     7037|             736|               |       Bus|       700|2020|   10| 28|\n",
      "|  10-736-j20-1|      856|             736|               |       Bus|       700|2020|   10| 28|\n",
      "|   1-100-j20-1|      801|             100|               |       Bus|       700|2020|   10| 28|\n",
      "|    1-10-j20-1|      886|              10|               |       Bus|       700|2020|   10| 28|\n",
      "+--------------+---------+----------------+---------------+----------+----------+----+-----+---+\n",
      "only showing top 20 rows"
     ]
    }
   ],
   "source": [
    "%%spark\n",
    "spark.read.orc(\"/data/sbb/part_orc/routes\").show()"
   ]
  },
  {
   "cell_type": "markdown",
   "id": "d61890a3-82ad-48d0-9d67-b975a606b30f",
   "metadata": {},
   "source": [
    "## Create Route Name table"
   ]
  },
  {
   "cell_type": "code",
   "execution_count": 61,
   "id": "7fe5a839-4359-4cab-b419-e3b8f8b47baf",
   "metadata": {},
   "outputs": [
    {
     "data": {
      "application/vnd.jupyter.widget-view+json": {
       "model_id": "",
       "version_major": 2,
       "version_minor": 0
      },
      "text/plain": [
       "FloatProgress(value=0.0, bar_style='info', description='Progress:', layout=Layout(height='25px', width='50%'),…"
      ]
     },
     "metadata": {},
     "output_type": "display_data"
    },
    {
     "name": "stdout",
     "output_type": "stream",
     "text": [
      "+------------+----------+--------------+\n",
      "|    route_id|route_name|transport_type|\n",
      "+------------+----------+--------------+\n",
      "| 12-81-j20-1|    Bus 81|           Bus|\n",
      "|13-383-j20-1|   Bus 383|           Bus|\n",
      "| 18-30-j20-1|    Bus 30|           Bus|\n",
      "+------------+----------+--------------+\n",
      "only showing top 3 rows"
     ]
    }
   ],
   "source": [
    "%%spark\n",
    "\n",
    "## creates route name !\n",
    "route_names = spark.read.orc(\"/data/sbb/part_orc/routes\").withColumn(\"route_name\", concat(col(\"route_desc\"), lit(\" \"), col(\"route_short_name\")))\\\n",
    "                .select([\"route_id\", \"route_name\", \"route_desc\"])\\\n",
    "                .dropDuplicates()\n",
    "\n",
    "## get simple type\n",
    "complex_to_simple_type = {\n",
    "    \"TGV\":\"Train\",\n",
    "    \"Eurocity\":\"Train\",\n",
    "    \"Regionalzug\":\"Train\",\n",
    "    \"RegioExpress\":\"Train\",\n",
    "    \"S-Bahn\":\"Train\",\n",
    "    \"Tram\":\"Tram\",\n",
    "    \"ICE\":\"Train\",\n",
    "    \"Bus\":\"Bus\",\n",
    "    \"Eurostar\":\"Train\",\n",
    "    \"Intercity\":\"Train\",\n",
    "    \"InterRegio\":\"Train\",\n",
    "    \"Extrazug\":\"Train\"\n",
    "}\n",
    "\n",
    "get_simple_type = udf(lambda complex_type : complex_to_simple_type.get(complex_type,\"unknown\"))\n",
    "\n",
    "route_names = route_names.withColumn(\"transport_type\", get_simple_type(col(\"route_desc\")))\\\n",
    "                .drop(\"route_desc\")\n",
    "route_names.show(3)"
   ]
  },
  {
   "cell_type": "code",
   "execution_count": 65,
   "id": "460e87e0-c5df-4614-a7bc-e1cf4bf7c8c2",
   "metadata": {},
   "outputs": [
    {
     "data": {
      "application/vnd.jupyter.widget-view+json": {
       "model_id": "",
       "version_major": 2,
       "version_minor": 0
      },
      "text/plain": [
       "FloatProgress(value=0.0, bar_style='info', description='Progress:', layout=Layout(height='25px', width='50%'),…"
      ]
     },
     "metadata": {},
     "output_type": "display_data"
    },
    {
     "data": {
      "application/vnd.jupyter.widget-view+json": {
       "model_id": "",
       "version_major": 2,
       "version_minor": 0
      },
      "text/plain": [
       "FloatProgress(value=0.0, bar_style='info', description='Progress:', layout=Layout(height='25px', width='50%'),…"
      ]
     },
     "metadata": {},
     "output_type": "display_data"
    }
   ],
   "source": [
    "%%spark -o route_names_and_types -n -1\n",
    "route_names_and_types = route_names\n",
    "#route_names.coalesce(1).write.format(\"com.databricks.spark.csv\")\\\n",
    "#   .option(\"header\", \"true\").save(REMOTE_PATH + \"route_names_and_types.csv\")"
   ]
  },
  {
   "cell_type": "code",
   "execution_count": 66,
   "id": "c3a878fa-d006-4f73-8e1c-a803e929730f",
   "metadata": {},
   "outputs": [
    {
     "data": {
      "text/html": [
       "<div>\n",
       "<style scoped>\n",
       "    .dataframe tbody tr th:only-of-type {\n",
       "        vertical-align: middle;\n",
       "    }\n",
       "\n",
       "    .dataframe tbody tr th {\n",
       "        vertical-align: top;\n",
       "    }\n",
       "\n",
       "    .dataframe thead th {\n",
       "        text-align: right;\n",
       "    }\n",
       "</style>\n",
       "<table border=\"1\" class=\"dataframe\">\n",
       "  <thead>\n",
       "    <tr style=\"text-align: right;\">\n",
       "      <th></th>\n",
       "      <th>route_id</th>\n",
       "      <th>route_name</th>\n",
       "      <th>transport_type</th>\n",
       "    </tr>\n",
       "  </thead>\n",
       "  <tbody>\n",
       "    <tr>\n",
       "      <th>0</th>\n",
       "      <td>12-81-j20-1</td>\n",
       "      <td>Bus 81</td>\n",
       "      <td>Bus</td>\n",
       "    </tr>\n",
       "    <tr>\n",
       "      <th>1</th>\n",
       "      <td>13-383-j20-1</td>\n",
       "      <td>Bus 383</td>\n",
       "      <td>Bus</td>\n",
       "    </tr>\n",
       "    <tr>\n",
       "      <th>2</th>\n",
       "      <td>18-30-j20-1</td>\n",
       "      <td>Bus 30</td>\n",
       "      <td>Bus</td>\n",
       "    </tr>\n",
       "    <tr>\n",
       "      <th>3</th>\n",
       "      <td>19-N51-j20-1</td>\n",
       "      <td>Bus N51</td>\n",
       "      <td>Bus</td>\n",
       "    </tr>\n",
       "    <tr>\n",
       "      <th>4</th>\n",
       "      <td>20-NE2-j20-1</td>\n",
       "      <td>Bus NE2</td>\n",
       "      <td>Bus</td>\n",
       "    </tr>\n",
       "    <tr>\n",
       "      <th>...</th>\n",
       "      <td>...</td>\n",
       "      <td>...</td>\n",
       "      <td>...</td>\n",
       "    </tr>\n",
       "    <tr>\n",
       "      <th>25117</th>\n",
       "      <td>90-107-Y-j20-1</td>\n",
       "      <td>Fähre 107-Y</td>\n",
       "      <td>unknown</td>\n",
       "    </tr>\n",
       "    <tr>\n",
       "      <th>25118</th>\n",
       "      <td>90-179-Y-j18-1</td>\n",
       "      <td>Fähre 179-Y</td>\n",
       "      <td>unknown</td>\n",
       "    </tr>\n",
       "    <tr>\n",
       "      <th>25119</th>\n",
       "      <td>79-CAS-5-j20-1</td>\n",
       "      <td>Bus CAR13N</td>\n",
       "      <td>Bus</td>\n",
       "    </tr>\n",
       "    <tr>\n",
       "      <th>25120</th>\n",
       "      <td>79-732-B-j20-1</td>\n",
       "      <td>Taxi 7326</td>\n",
       "      <td>unknown</td>\n",
       "    </tr>\n",
       "    <tr>\n",
       "      <th>25121</th>\n",
       "      <td>1-142-j18-1</td>\n",
       "      <td>Bus 142</td>\n",
       "      <td>Bus</td>\n",
       "    </tr>\n",
       "  </tbody>\n",
       "</table>\n",
       "<p>25122 rows × 3 columns</p>\n",
       "</div>"
      ],
      "text/plain": [
       "             route_id   route_name transport_type\n",
       "0         12-81-j20-1       Bus 81            Bus\n",
       "1        13-383-j20-1      Bus 383            Bus\n",
       "2         18-30-j20-1       Bus 30            Bus\n",
       "3        19-N51-j20-1      Bus N51            Bus\n",
       "4        20-NE2-j20-1      Bus NE2            Bus\n",
       "...               ...          ...            ...\n",
       "25117  90-107-Y-j20-1  Fähre 107-Y        unknown\n",
       "25118  90-179-Y-j18-1  Fähre 179-Y        unknown\n",
       "25119  79-CAS-5-j20-1   Bus CAR13N            Bus\n",
       "25120  79-732-B-j20-1    Taxi 7326        unknown\n",
       "25121     1-142-j18-1      Bus 142            Bus\n",
       "\n",
       "[25122 rows x 3 columns]"
      ]
     },
     "execution_count": 66,
     "metadata": {},
     "output_type": "execute_result"
    }
   ],
   "source": [
    "route_names_and_types"
   ]
  },
  {
   "cell_type": "code",
   "execution_count": 67,
   "id": "fa129f68-3a6e-4405-9ea1-3179ae14a9ff",
   "metadata": {},
   "outputs": [],
   "source": [
    "route_names_and_types.to_csv(\"../data/route_names_types.csv\")"
   ]
  },
  {
   "cell_type": "code",
   "execution_count": null,
   "id": "f7dfbf97-7681-4a3e-b8a4-5e5ebf010716",
   "metadata": {},
   "outputs": [],
   "source": []
  }
 ],
 "metadata": {
  "kernelspec": {
   "display_name": "Python 3",
   "language": "python",
   "name": "python3"
  },
  "language_info": {
   "codemirror_mode": {
    "name": "ipython",
    "version": 3
   },
   "file_extension": ".py",
   "mimetype": "text/x-python",
   "name": "python",
   "nbconvert_exporter": "python",
   "pygments_lexer": "ipython3",
   "version": "3.9.7"
  }
 },
 "nbformat": 4,
 "nbformat_minor": 5
}
