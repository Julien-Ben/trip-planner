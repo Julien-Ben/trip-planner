{
 "cells": [
  {
   "cell_type": "code",
   "execution_count": 1,
   "id": "6ebd3b9c-8b61-452f-b0f5-40c1f656825d",
   "metadata": {},
   "outputs": [],
   "source": [
    "import pandas as pd\n",
    "import os"
   ]
  },
  {
   "cell_type": "code",
   "execution_count": 2,
   "id": "ac7e13b5-70af-4912-9b53-c16fef615c96",
   "metadata": {},
   "outputs": [
    {
     "data": {
      "text/plain": [
       "['timetable.csv',\n",
       " 'delay_distrib.csv',\n",
       " 'arrivalsRouteStops.csv',\n",
       " '.gitattributes',\n",
       " 'timetable',\n",
       " 'route_names.csv',\n",
       " 'terminusRouteStops.csv',\n",
       " '.gitkeep',\n",
       " 'departuresRouteStops.csv',\n",
       " 'terminusRouteStops',\n",
       " 'arrivalsRouteStops',\n",
       " 'departuresRouteStops',\n",
       " 'delay_distrib',\n",
       " 'stations.csv',\n",
       " 'route_names_types.csv',\n",
       " 'waiting_times.csv',\n",
       " 'stop_ids_in_radius.csv']"
      ]
     },
     "execution_count": 2,
     "metadata": {},
     "output_type": "execute_result"
    }
   ],
   "source": [
    "os.listdir(\"../data\")"
   ]
  },
  {
   "cell_type": "markdown",
   "id": "983da3d8-cd1f-422f-8f16-1a66aef3d110",
   "metadata": {},
   "source": [
    "### Adding types and route names to routeStops"
   ]
  },
  {
   "cell_type": "code",
   "execution_count": 5,
   "id": "5bdf568c-b6df-4a3f-a31c-dab957f8cd8d",
   "metadata": {},
   "outputs": [
    {
     "data": {
      "text/html": [
       "<div>\n",
       "<style scoped>\n",
       "    .dataframe tbody tr th:only-of-type {\n",
       "        vertical-align: middle;\n",
       "    }\n",
       "\n",
       "    .dataframe tbody tr th {\n",
       "        vertical-align: top;\n",
       "    }\n",
       "\n",
       "    .dataframe thead th {\n",
       "        text-align: right;\n",
       "    }\n",
       "</style>\n",
       "<table border=\"1\" class=\"dataframe\">\n",
       "  <thead>\n",
       "    <tr style=\"text-align: right;\">\n",
       "      <th></th>\n",
       "      <th>version https://git-lfs.github.com/spec/v1</th>\n",
       "    </tr>\n",
       "  </thead>\n",
       "  <tbody>\n",
       "    <tr>\n",
       "      <th>0</th>\n",
       "      <td>oid sha256:443968426de60978222aab4d10b7edcf381...</td>\n",
       "    </tr>\n",
       "    <tr>\n",
       "      <th>1</th>\n",
       "      <td>size 3028166</td>\n",
       "    </tr>\n",
       "  </tbody>\n",
       "</table>\n",
       "</div>"
      ],
      "text/plain": [
       "          version https://git-lfs.github.com/spec/v1\n",
       "0  oid sha256:443968426de60978222aab4d10b7edcf381...\n",
       "1                                       size 3028166"
      ]
     },
     "execution_count": 5,
     "metadata": {},
     "output_type": "execute_result"
    }
   ],
   "source": [
    "arrivals = pd.read_csv(\"../data/arrivalsRouteStops/arrivalsRouteStops.csv\")\n",
    "arrivals.head()"
   ]
  },
  {
   "cell_type": "code",
   "execution_count": 24,
   "id": "7a601638-646a-4dc6-be56-d725052b75a6",
   "metadata": {},
   "outputs": [],
   "source": [
    "def load_csv(name, i=0, **kwargs):\n",
    "    return pd.read_csv(\"../data/{name}/{file}\".format(name=name, file=os.listdir(\"../data/{name}\".format(name=name))[i]), **kwargs)"
   ]
  },
  {
   "cell_type": "code",
   "execution_count": 26,
   "id": "9ad50ce4-5c19-4dd7-8961-06de7f70c4a3",
   "metadata": {},
   "outputs": [],
   "source": [
    "arrivals = load_csv(\"arrivalsRouteStops.csv\")"
   ]
  },
  {
   "cell_type": "code",
   "execution_count": 35,
   "id": "ea5644fc-4421-4ca2-8fea-86c395b7672c",
   "metadata": {},
   "outputs": [],
   "source": [
    "routes_names_types = pd.read_csv(\"../data/route_names_types.csv\").drop(\"Unnamed: 0\", axis=1)"
   ]
  },
  {
   "cell_type": "code",
   "execution_count": 36,
   "id": "cf33fab5-21da-4ef9-a8cd-b2f8f6255574",
   "metadata": {},
   "outputs": [
    {
     "data": {
      "text/html": [
       "<div>\n",
       "<style scoped>\n",
       "    .dataframe tbody tr th:only-of-type {\n",
       "        vertical-align: middle;\n",
       "    }\n",
       "\n",
       "    .dataframe tbody tr th {\n",
       "        vertical-align: top;\n",
       "    }\n",
       "\n",
       "    .dataframe thead th {\n",
       "        text-align: right;\n",
       "    }\n",
       "</style>\n",
       "<table border=\"1\" class=\"dataframe\">\n",
       "  <thead>\n",
       "    <tr style=\"text-align: right;\">\n",
       "      <th></th>\n",
       "      <th>STOP_NAME</th>\n",
       "      <th>stop_sequence</th>\n",
       "      <th>end_route_stop_id</th>\n",
       "      <th>route_stop_id</th>\n",
       "      <th>travel_time</th>\n",
       "      <th>target_end_route_stop_id</th>\n",
       "    </tr>\n",
       "  </thead>\n",
       "  <tbody>\n",
       "    <tr>\n",
       "      <th>0</th>\n",
       "      <td>Zürich, Hardplatz</td>\n",
       "      <td>16</td>\n",
       "      <td>26-72-j20-1$Zürich, Hardplatz$A</td>\n",
       "      <td>26-72-j20-1$Zürich, Hardplatz</td>\n",
       "      <td>NaN</td>\n",
       "      <td>26-72-j20-1$Zürich, Albisriederplatz$D</td>\n",
       "    </tr>\n",
       "    <tr>\n",
       "      <th>1</th>\n",
       "      <td>Zürich, Römerhof</td>\n",
       "      <td>3</td>\n",
       "      <td>26-3-A-j20-1$Zürich, Römerhof$A</td>\n",
       "      <td>26-3-A-j20-1$Zürich, Römerhof</td>\n",
       "      <td>NaN</td>\n",
       "      <td>26-3-A-j20-1$Zürich, Hölderlinstrasse$D</td>\n",
       "    </tr>\n",
       "    <tr>\n",
       "      <th>2</th>\n",
       "      <td>Zürich, Werdhölzli</td>\n",
       "      <td>27</td>\n",
       "      <td>26-6-j20-1$Zürich, Werdhölzli$A</td>\n",
       "      <td>26-6-j20-1$Zürich, Werdhölzli</td>\n",
       "      <td>NaN</td>\n",
       "      <td>26-6-j20-1$Zürich, Bändliweg$D</td>\n",
       "    </tr>\n",
       "    <tr>\n",
       "      <th>3</th>\n",
       "      <td>Zürich, Albisriederdörfli</td>\n",
       "      <td>5</td>\n",
       "      <td>26-80-j20-1$Zürich, Albisriederdörfli$A</td>\n",
       "      <td>26-80-j20-1$Zürich, Albisriederdörfli</td>\n",
       "      <td>NaN</td>\n",
       "      <td>26-80-j20-1$Zürich, Albisrieden$D</td>\n",
       "    </tr>\n",
       "    <tr>\n",
       "      <th>4</th>\n",
       "      <td>Kilchberg ZH, Schwelle</td>\n",
       "      <td>13</td>\n",
       "      <td>26-N15-j20-1$Kilchberg ZH, Schwelle$A</td>\n",
       "      <td>26-N15-j20-1$Kilchberg ZH, Schwelle</td>\n",
       "      <td>NaN</td>\n",
       "      <td>26-N15-j20-1$Kilchberg ZH, Sanatorium$D</td>\n",
       "    </tr>\n",
       "  </tbody>\n",
       "</table>\n",
       "</div>"
      ],
      "text/plain": [
       "                   STOP_NAME  stop_sequence  \\\n",
       "0          Zürich, Hardplatz             16   \n",
       "1           Zürich, Römerhof              3   \n",
       "2         Zürich, Werdhölzli             27   \n",
       "3  Zürich, Albisriederdörfli              5   \n",
       "4     Kilchberg ZH, Schwelle             13   \n",
       "\n",
       "                         end_route_stop_id  \\\n",
       "0          26-72-j20-1$Zürich, Hardplatz$A   \n",
       "1          26-3-A-j20-1$Zürich, Römerhof$A   \n",
       "2          26-6-j20-1$Zürich, Werdhölzli$A   \n",
       "3  26-80-j20-1$Zürich, Albisriederdörfli$A   \n",
       "4    26-N15-j20-1$Kilchberg ZH, Schwelle$A   \n",
       "\n",
       "                           route_stop_id  travel_time  \\\n",
       "0          26-72-j20-1$Zürich, Hardplatz          NaN   \n",
       "1          26-3-A-j20-1$Zürich, Römerhof          NaN   \n",
       "2          26-6-j20-1$Zürich, Werdhölzli          NaN   \n",
       "3  26-80-j20-1$Zürich, Albisriederdörfli          NaN   \n",
       "4    26-N15-j20-1$Kilchberg ZH, Schwelle          NaN   \n",
       "\n",
       "                  target_end_route_stop_id  \n",
       "0   26-72-j20-1$Zürich, Albisriederplatz$D  \n",
       "1  26-3-A-j20-1$Zürich, Hölderlinstrasse$D  \n",
       "2           26-6-j20-1$Zürich, Bändliweg$D  \n",
       "3        26-80-j20-1$Zürich, Albisrieden$D  \n",
       "4  26-N15-j20-1$Kilchberg ZH, Sanatorium$D  "
      ]
     },
     "metadata": {},
     "output_type": "display_data"
    },
    {
     "data": {
      "text/html": [
       "<div>\n",
       "<style scoped>\n",
       "    .dataframe tbody tr th:only-of-type {\n",
       "        vertical-align: middle;\n",
       "    }\n",
       "\n",
       "    .dataframe tbody tr th {\n",
       "        vertical-align: top;\n",
       "    }\n",
       "\n",
       "    .dataframe thead th {\n",
       "        text-align: right;\n",
       "    }\n",
       "</style>\n",
       "<table border=\"1\" class=\"dataframe\">\n",
       "  <thead>\n",
       "    <tr style=\"text-align: right;\">\n",
       "      <th></th>\n",
       "      <th>route_id</th>\n",
       "      <th>route_name</th>\n",
       "      <th>transport_type</th>\n",
       "    </tr>\n",
       "  </thead>\n",
       "  <tbody>\n",
       "    <tr>\n",
       "      <th>0</th>\n",
       "      <td>12-81-j20-1</td>\n",
       "      <td>Bus 81</td>\n",
       "      <td>Bus</td>\n",
       "    </tr>\n",
       "    <tr>\n",
       "      <th>1</th>\n",
       "      <td>13-383-j20-1</td>\n",
       "      <td>Bus 383</td>\n",
       "      <td>Bus</td>\n",
       "    </tr>\n",
       "    <tr>\n",
       "      <th>2</th>\n",
       "      <td>18-30-j20-1</td>\n",
       "      <td>Bus 30</td>\n",
       "      <td>Bus</td>\n",
       "    </tr>\n",
       "    <tr>\n",
       "      <th>3</th>\n",
       "      <td>20-NE2-j20-1</td>\n",
       "      <td>Bus NE2</td>\n",
       "      <td>Bus</td>\n",
       "    </tr>\n",
       "    <tr>\n",
       "      <th>4</th>\n",
       "      <td>21-838-j20-1</td>\n",
       "      <td>Bus 838</td>\n",
       "      <td>Bus</td>\n",
       "    </tr>\n",
       "  </tbody>\n",
       "</table>\n",
       "</div>"
      ],
      "text/plain": [
       "       route_id route_name transport_type\n",
       "0   12-81-j20-1     Bus 81            Bus\n",
       "1  13-383-j20-1    Bus 383            Bus\n",
       "2   18-30-j20-1     Bus 30            Bus\n",
       "3  20-NE2-j20-1    Bus NE2            Bus\n",
       "4  21-838-j20-1    Bus 838            Bus"
      ]
     },
     "metadata": {},
     "output_type": "display_data"
    }
   ],
   "source": [
    "display(arrivals.head())\n",
    "display(routes_names_types.head())"
   ]
  },
  {
   "cell_type": "code",
   "execution_count": 37,
   "id": "293a7872-3ae9-4a1c-b355-dfdf94e1bfe9",
   "metadata": {},
   "outputs": [
    {
     "name": "stdout",
     "output_type": "stream",
     "text": [
      "Number of arrivals :  21543\n"
     ]
    }
   ],
   "source": [
    "print(\"Number of arrivals : \", len(arrivals.index))"
   ]
  },
  {
   "cell_type": "code",
   "execution_count": 41,
   "id": "f0439618-3873-4bc1-9793-bfe157e2edec",
   "metadata": {},
   "outputs": [],
   "source": [
    "arrivals[\"route_id\"] = arrivals.route_stop_id.apply(lambda x : x.split(\"$\")[0])"
   ]
  },
  {
   "cell_type": "code",
   "execution_count": 42,
   "id": "cc20c9d6-f432-42b8-9959-a09b6440825a",
   "metadata": {},
   "outputs": [],
   "source": [
    "arrivals_ext = arrivals.merge(routes_names_types, on=\"route_id\")"
   ]
  },
  {
   "cell_type": "code",
   "execution_count": 43,
   "id": "bca07720-781d-42de-8ff5-4e64b6187a24",
   "metadata": {},
   "outputs": [
    {
     "name": "stdout",
     "output_type": "stream",
     "text": [
      "Number of arrivals :  21543\n"
     ]
    }
   ],
   "source": [
    "print(\"Number of arrivals : \", len(arrivals_ext.index))"
   ]
  },
  {
   "cell_type": "code",
   "execution_count": 44,
   "id": "dfd7d93d-032c-4c55-b0c7-156397b30c5c",
   "metadata": {},
   "outputs": [],
   "source": [
    "arrivals_ext.to_csv(\"../data/arrivals_ext.csv\")"
   ]
  },
  {
   "cell_type": "code",
   "execution_count": null,
   "id": "8b30d13a-a1ef-4aec-95bb-4a62a272c74f",
   "metadata": {},
   "outputs": [],
   "source": []
  }
 ],
 "metadata": {
  "kernelspec": {
   "display_name": "Python 3",
   "language": "python",
   "name": "python3"
  },
  "language_info": {
   "codemirror_mode": {
    "name": "ipython",
    "version": 3
   },
   "file_extension": ".py",
   "mimetype": "text/x-python",
   "name": "python",
   "nbconvert_exporter": "python",
   "pygments_lexer": "ipython3",
   "version": "3.9.7"
  }
 },
 "nbformat": 4,
 "nbformat_minor": 5
}
