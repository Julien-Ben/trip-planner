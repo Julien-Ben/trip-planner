{
 "cells": [
  {
   "cell_type": "code",
   "execution_count": 1,
   "id": "85c78276-36ab-4a0e-a238-1ea0e617a334",
   "metadata": {},
   "outputs": [
    {
     "name": "stdout",
     "output_type": "stream",
     "text": [
      "Switched to a new branch 'timetables'\n",
      "From https://dslab2022-renku.epfl.ch/gitlab/abiskop1/final-assignment\n",
      " * branch            timetables -> FETCH_HEAD\n",
      "Updating 720b4ba..52e7f3f\n",
      "Fast-forward\n",
      " .gitattributes                                     |   13 \u001b[32m+\u001b[m\n",
      " data/arrivalsRouteStops.csv/_SUCCESS               |    0\n",
      " ...0-a4d59d0e-7eff-4d36-8d12-76eac29450c5-c000.csv |    3 \u001b[32m+\u001b[m\n",
      " data/departuresRouteStops.csv/_SUCCESS             |    0\n",
      " ...0-04ba97c6-496a-42e2-9940-9c9f979690cc-c000.csv |    3 \u001b[32m+\u001b[m\n",
      " data/stations.csv                                  |    3 \u001b[32m+\u001b[m\n",
      " data/terminusRouteStops.csv/_SUCCESS               |    0\n",
      " ...0-0a06f1ea-39c3-41a6-916f-1336a2a68a97-c000.csv |    3 \u001b[32m+\u001b[m\n",
      " data/timetable.csv/_SUCCESS                        |    0\n",
      " ...0-ab816ead-6304-4581-986b-5a9cc5c5ffcf-c000.csv |    3 \u001b[32m+\u001b[m\n",
      " data/waiting_times.csv                             |    3 \u001b[32m+\u001b[m\n",
      " notebooks/notebook-commandline.md                  |   54 \u001b[32m+\u001b[m\n",
      " notebooks/preprocessing.py                         |    5 \u001b[32m+\u001b[m\n",
      " notebooks/setup.py                                 |    5 \u001b[32m+\u001b[m\n",
      " notebooks/stochastic.ipynb                         | 1522 \u001b[32m++++++++++++++++++++\u001b[m\n",
      " notebooks/toni_preproc.py                          |  414 \u001b[32m+++++\u001b[m\u001b[31m-\u001b[m\n",
      " 16 files changed, 2013 insertions(+), 18 deletions(-)\n",
      " create mode 100644 data/arrivalsRouteStops.csv/_SUCCESS\n",
      " create mode 100644 data/arrivalsRouteStops.csv/part-00000-a4d59d0e-7eff-4d36-8d12-76eac29450c5-c000.csv\n",
      " create mode 100644 data/departuresRouteStops.csv/_SUCCESS\n",
      " create mode 100644 data/departuresRouteStops.csv/part-00000-04ba97c6-496a-42e2-9940-9c9f979690cc-c000.csv\n",
      " create mode 100644 data/stations.csv\n",
      " create mode 100644 data/terminusRouteStops.csv/_SUCCESS\n",
      " create mode 100644 data/terminusRouteStops.csv/part-00000-0a06f1ea-39c3-41a6-916f-1336a2a68a97-c000.csv\n",
      " create mode 100644 data/timetable.csv/_SUCCESS\n",
      " create mode 100644 data/timetable.csv/part-00000-ab816ead-6304-4581-986b-5a9cc5c5ffcf-c000.csv\n",
      " create mode 100644 data/waiting_times.csv\n",
      " create mode 100644 notebooks/setup.py\n",
      " create mode 100644 notebooks/stochastic.ipynb\n"
     ]
    }
   ],
   "source": [
    "!git checkout -b timetables\n",
    "!git pull origin timetables"
   ]
  },
  {
   "cell_type": "code",
   "execution_count": null,
   "id": "afb64200-3fed-43cd-8cea-5b567404f0c8",
   "metadata": {},
   "outputs": [],
   "source": []
  }
 ],
 "metadata": {
  "kernelspec": {
   "display_name": "Python 3",
   "language": "python",
   "name": "python3"
  },
  "language_info": {
   "codemirror_mode": {
    "name": "ipython",
    "version": 3
   },
   "file_extension": ".py",
   "mimetype": "text/x-python",
   "name": "python",
   "nbconvert_exporter": "python",
   "pygments_lexer": "ipython3",
   "version": "3.9.7"
  }
 },
 "nbformat": 4,
 "nbformat_minor": 5
}
