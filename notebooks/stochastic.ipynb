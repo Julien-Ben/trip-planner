{
 "cells": [
  {
   "cell_type": "markdown",
   "id": "3d5d6930-23d9-4997-89c5-13226b0ea1dc",
   "metadata": {},
   "source": [
    "# Building the stochastic timetables\n",
    "\n",
    "### Creating Spark Session"
   ]
  },
  {
   "cell_type": "code",
   "execution_count": 1,
   "id": "94fb1553-9f7b-4fc5-84ed-3c48bbcd9549",
   "metadata": {},
   "outputs": [],
   "source": [
    "import os\n",
    "%load_ext sparkmagic.magics\n",
    "from datetime import datetime\n",
    "username = os.environ['RENKU_USERNAME']\n",
    "server = server = \"http://iccluster029.iccluster.epfl.ch:8998\"\n",
    "from IPython import get_ipython\n",
    "get_ipython().run_cell_magic('spark', line=\"config\", \n",
    "                             cell=\"\"\"{{ \"name\":\"{0}-final_project\", \"executorMemory\":\"4G\", \"executorCores\":4, \"numExecutors\":10 }}\"\"\".format(username))\n",
    "\n"
   ]
  },
  {
   "cell_type": "code",
   "execution_count": 2,
   "id": "104b4f00-c53b-4792-9cef-689a8187aacd",
   "metadata": {},
   "outputs": [
    {
     "name": "stdout",
     "output_type": "stream",
     "text": [
      "Starting Spark application\n"
     ]
    },
    {
     "data": {
      "text/html": [
       "<table>\n",
       "<tr><th>ID</th><th>YARN Application ID</th><th>Kind</th><th>State</th><th>Spark UI</th><th>Driver log</th><th>User</th><th>Current session?</th></tr><tr><td>6594</td><td>application_1652960972356_2135</td><td>pyspark</td><td>idle</td><td><a target=\"_blank\" href=\"http://iccluster029.iccluster.epfl.ch:8088/proxy/application_1652960972356_2135/\">Link</a></td><td><a target=\"_blank\" href=\"http://iccluster059.iccluster.epfl.ch:8042/node/containerlogs/container_e05_1652960972356_2135_01_000001/eric\">Link</a></td><td>None</td><td>✔</td></tr></table>"
      ],
      "text/plain": [
       "<IPython.core.display.HTML object>"
      ]
     },
     "metadata": {},
     "output_type": "display_data"
    },
    {
     "data": {
      "application/vnd.jupyter.widget-view+json": {
       "model_id": "",
       "version_major": 2,
       "version_minor": 0
      },
      "text/plain": [
       "FloatProgress(value=0.0, bar_style='info', description='Progress:', layout=Layout(height='25px', width='50%'),…"
      ]
     },
     "metadata": {},
     "output_type": "display_data"
    },
    {
     "name": "stdout",
     "output_type": "stream",
     "text": [
      "SparkSession available as 'spark'.\n"
     ]
    }
   ],
   "source": [
    "get_ipython().run_line_magic(\n",
    "    \"spark\", \"add -s {0}-final_project -l python -u {1} -k\".format(username, server)\n",
    ")"
   ]
  },
  {
   "cell_type": "code",
   "execution_count": 3,
   "id": "2aefbc18-5151-4d85-854a-f4ab0835c58e",
   "metadata": {},
   "outputs": [
    {
     "data": {
      "application/vnd.jupyter.widget-view+json": {
       "model_id": "",
       "version_major": 2,
       "version_minor": 0
      },
      "text/plain": [
       "FloatProgress(value=0.0, bar_style='info', description='Progress:', layout=Layout(height='25px', width='50%'),…"
      ]
     },
     "metadata": {},
     "output_type": "display_data"
    }
   ],
   "source": [
    "%%spark\n",
    "## SPARK IMPORTS\n",
    "from functools import reduce\n",
    "from pyspark.sql.functions import col, lit, unix_timestamp, from_unixtime, collect_list\n",
    "from pyspark.sql.functions import countDistinct, concat\n",
    "from pyspark.sql.functions import udf, explode, split\n",
    "from pyspark.sql.types import ArrayType, StringType\n",
    "\n",
    "REMOTE_PATH = \"/group/abiskop1/project_data/\""
   ]
  },
  {
   "cell_type": "code",
   "execution_count": 98,
   "id": "21a15811-2205-4bf6-a90e-7e78cfc82278",
   "metadata": {},
   "outputs": [
    {
     "data": {
      "application/vnd.jupyter.widget-view+json": {
       "model_id": "",
       "version_major": 2,
       "version_minor": 0
      },
      "text/plain": [
       "FloatProgress(value=0.0, bar_style='info', description='Progress:', layout=Layout(height='25px', width='50%'),…"
      ]
     },
     "metadata": {},
     "output_type": "display_data"
    },
    {
     "name": "stdout",
     "output_type": "stream",
     "text": [
      "The Schema is :\n",
      "DataFrame[betriebstag: string, fahrt_bezeichner: string, betreiber_id: string, betreiber_abk: string, betreiber_name: string, produkt_id: string, linien_id: string, linien_text: string, umlauf_id: string, verkehrsmittel_text: string, zusatzfahrt_tf: string, faellt_aus_tf: string, bpuic: string, haltestellen_name: string, ankunftszeit: string, an_prognose: string, an_prognose_status: string, abfahrtszeit: string, ab_prognose: string, ab_prognose_status: string, durchfahrt_tf: string, year: int, month: int]"
     ]
    }
   ],
   "source": [
    "%%spark\n",
    "real_time = spark.read.orc(\"/data/sbb/part_orc/istdaten\")\n",
    "\n",
    "arrivals = spark.read.csv(REMOTE_PATH + \"arrivalsRouteStops.csv\", header='true', inferSchema='true')\n",
    "arrivals = arrivals.withColumn(\"route_id\", udf(lambda end_id : end_id.split(\"$\")[0])(col(\"end_route_stop_id\")))\n",
    "\n",
    "print(\"The Schema is :\")\n",
    "real_time"
   ]
  },
  {
   "cell_type": "markdown",
   "id": "2eb46a03-c7e8-4584-8c95-83bfdcb57865",
   "metadata": {},
   "source": [
    "As I don't speak german :"
   ]
  },
  {
   "cell_type": "code",
   "execution_count": 99,
   "id": "b7674767-2b88-4d25-92ec-43d7951c00c9",
   "metadata": {},
   "outputs": [
    {
     "data": {
      "application/vnd.jupyter.widget-view+json": {
       "model_id": "",
       "version_major": 2,
       "version_minor": 0
      },
      "text/plain": [
       "FloatProgress(value=0.0, bar_style='info', description='Progress:', layout=Layout(height='25px', width='50%'),…"
      ]
     },
     "metadata": {},
     "output_type": "display_data"
    },
    {
     "name": "stdout",
     "output_type": "stream",
     "text": [
      "Final Schema :\n",
      "DataFrame[date: string, trip_id: string, betreiber_id: string, operator: string, operator_name: string, produkt_id: string,  for trains, this is the train number: string, type_service_1: string, umlauf_id: string, type_service_2: string, additional_trip: string, trip_failed: string, bpuic: string, STOP_NAME: string, arrival_time_schedule: string, arrival_time_actual: string, measure_method_arrival: string, departure_time_schedule: string, departure_time_actual: string, measure_method_arrival: string, does_stop_here: string, year: int, month: int]"
     ]
    }
   ],
   "source": [
    "%%spark\n",
    "mapping =    [['BETRIEBSTAG', 'date'],\n",
    "    ['FAHRT_BEZEICHNER', \"trip_id\"],\n",
    "    ['BETREIBER_ABK', 'operator'],\n",
    "    [\"BETREIBER_NAME\", \"operator_name\"],\n",
    "    [\"PRODUCT_ID\", \"type_transport\"],\n",
    "    [\"LINIEN_ID\",\" for trains, this is the train number\"],\n",
    "    [\"LINIEN_TEXT\",\"type_service_1\"], \n",
    "    [\"VERKEHRSMITTEL_TEXT\",\"type_service_2\"],\n",
    "    [\"ZUSATZFAHRT_TF\",\"additional_trip\"],\n",
    "    [\"FAELLT_AUS_TF\",\"trip_failed\"],\n",
    "    [\"HALTESTELLEN_NAME\",\"STOP_NAME\"],\n",
    "    [\"ANKUNFTSZEIT\",\"arrival_time_schedule\"],\n",
    "    [\"AN_PROGNOSE\",\"arrival_time_actual\"],\n",
    "    [\"AN_PROGNOSE_STATUS\",\"measure_method_arrival\"],\n",
    "    [\"ABFAHRTSZEIT\",\"departure_time_schedule\"],\n",
    "    [\"AB_PROGNOSE\",\"departure_time_actual\"],\n",
    "    [\"AB_PROGNOSE_STATUS\",\"measure_method_arrival\"],\n",
    "    [\"DURCHFAHRT_TF\",\"does_stop_here\"]]\n",
    "\n",
    "\n",
    "for de_name, en_name in mapping:\n",
    "    real_time = real_time.withColumnRenamed(de_name, en_name)\n",
    "    \n",
    "print(\"Final Schema :\")\n",
    "real_time"
   ]
  },
  {
   "cell_type": "markdown",
   "id": "b4b70568-387d-43e3-bceb-21b655428aa6",
   "metadata": {},
   "source": [
    "### Restricting the station to the selected ones where transports arrive"
   ]
  },
  {
   "cell_type": "code",
   "execution_count": 100,
   "id": "de37ec3f-f83a-4de7-b828-7076a7f7cffd",
   "metadata": {},
   "outputs": [
    {
     "data": {
      "application/vnd.jupyter.widget-view+json": {
       "model_id": "",
       "version_major": 2,
       "version_minor": 0
      },
      "text/plain": [
       "FloatProgress(value=0.0, bar_style='info', description='Progress:', layout=Layout(height='25px', width='50%'),…"
      ]
     },
     "metadata": {},
     "output_type": "display_data"
    },
    {
     "name": "stdout",
     "output_type": "stream",
     "text": [
      "('Before selection real_data size : ', 2104333948)\n",
      "('After selection real_data size : ', 438767230)"
     ]
    }
   ],
   "source": [
    "%%spark\n",
    "\n",
    "stations = arrivals.select(\"STOP_NAME\").dropDuplicates()\n",
    "print(\"Before selection real_data size : \", real_time.count())\n",
    "real_time = real_time.join(stations, \"STOP_NAME\")\n",
    "print(\"After selection real_data size : \", real_time.count())"
   ]
  },
  {
   "cell_type": "markdown",
   "id": "8e99434a-d709-424b-a9fd-f3cbb7ee6636",
   "metadata": {},
   "source": [
    "## EDA of the delay distribution"
   ]
  },
  {
   "cell_type": "code",
   "execution_count": 101,
   "id": "77237b26-f173-4df8-8a9f-9603450fe10e",
   "metadata": {},
   "outputs": [
    {
     "data": {
      "application/vnd.jupyter.widget-view+json": {
       "model_id": "",
       "version_major": 2,
       "version_minor": 0
      },
      "text/plain": [
       "FloatProgress(value=0.0, bar_style='info', description='Progress:', layout=Layout(height='25px', width='50%'),…"
      ]
     },
     "metadata": {},
     "output_type": "display_data"
    }
   ],
   "source": [
    "%%spark\n",
    "real_time = real_time.withColumn('arrival_time_schedule', unix_timestamp('arrival_time_schedule', \"dd.MM.yyyy HH:mm\"))\n",
    "real_time = real_time.withColumn('arrival_time_actual', unix_timestamp('arrival_time_actual', \"dd.MM.yyyy HH:mm\"))\n",
    "\n",
    "real_time = real_time.withColumn(\"arrival_delay\", col(\"arrival_time_actual\") - col(\"arrival_time_schedule\"))"
   ]
  },
  {
   "cell_type": "code",
   "execution_count": 102,
   "id": "668c03fa-29f6-4e65-8cda-36056122a340",
   "metadata": {},
   "outputs": [
    {
     "data": {
      "application/vnd.jupyter.widget-view+json": {
       "model_id": "",
       "version_major": 2,
       "version_minor": 0
      },
      "text/plain": [
       "FloatProgress(value=0.0, bar_style='info', description='Progress:', layout=Layout(height='25px', width='50%'),…"
      ]
     },
     "metadata": {},
     "output_type": "display_data"
    }
   ],
   "source": [
    "%%spark\n",
    "analysis = real_time.filter(\"year == 2021\").filter(\"month == 1\")\n",
    "\n",
    "delays_distrib = analysis.select([\"STOP_NAME\", \"produkt_id\", \"arrival_delay\"]).groupBy([\"STOP_NAME\", \"produkt_id\"]).agg(collect_list(col(\"arrival_delay\")))"
   ]
  },
  {
   "cell_type": "code",
   "execution_count": 109,
   "id": "9a513b45-0534-4344-a806-295d073597d4",
   "metadata": {},
   "outputs": [
    {
     "name": "stderr",
     "output_type": "stream",
     "text": [
      "Interrupted by user\n"
     ]
    }
   ],
   "source": [
    "%%spark \n",
    "delays_distrib"
   ]
  },
  {
   "cell_type": "code",
   "execution_count": 107,
   "id": "a853cc3e-b4ec-487a-bfb1-57fee5539039",
   "metadata": {},
   "outputs": [
    {
     "name": "stderr",
     "output_type": "stream",
     "text": [
      "An error was encountered:\n",
      "Invalid status code '500' from http://iccluster029.iccluster.epfl.ch:8998/sessions/6594/statements with error payload: \"java.lang.IllegalStateException: RPC channel is closed.\"\n"
     ]
    }
   ],
   "source": [
    "%%spark\n",
    "delays_distrib.coalesce(1).write.format(\"com.databricks.spark.csv\")\\\n",
    "   .option(\"header\", \"true\").save(REMOTE_PATH + \"delays_distrib_jan_2021.csv\")"
   ]
  },
  {
   "cell_type": "markdown",
   "id": "f65908bf-3077-45d4-98e6-d545f561ea33",
   "metadata": {},
   "source": [
    "## Getting the `route_stop_id` of each `trip_id`"
   ]
  },
  {
   "cell_type": "code",
   "execution_count": 56,
   "id": "f9516c03-822c-4d01-9e1c-6de4f055e0cc",
   "metadata": {},
   "outputs": [
    {
     "data": {
      "application/vnd.jupyter.widget-view+json": {
       "model_id": "",
       "version_major": 2,
       "version_minor": 0
      },
      "text/plain": [
       "FloatProgress(value=0.0, bar_style='info', description='Progress:', layout=Layout(height='25px', width='50%'),…"
      ]
     },
     "metadata": {},
     "output_type": "display_data"
    },
    {
     "name": "stdout",
     "output_type": "stream",
     "text": [
      "('Before selection real_data size : ', 438767230)\n",
      "('Before selection real_data size : ', 0)\n",
      "trips.txt schema :\n",
      "DataFrame[route_id: string, service_id: string, trip_id: string, trip_headsign: string, trip_short_name: string, direction_id: tinyint, year: int, month: int, day: int]"
     ]
    }
   ],
   "source": [
    "%%spark\n",
    "print(\"Before selection real_data size : \", real_time.count())\n",
    "dummy = spark.read.orc(\"/data/sbb/part_orc/trips\")\\\n",
    "             .select([\"route_id\", \"trip_id\"])\\\n",
    "             .join(real_time, \"trip_id\")\\\n",
    "             .withColumn(\"end_route_stop_id\", concat(col(\"route_id\"), lit(\"$\"), col(\"STOP_NAME\"), lit(\"$A\")))\n",
    "print(\"Before selection real_data size : \", dummy.count())\n",
    "print(\"trips.txt schema :\")\n",
    "trips"
   ]
  },
  {
   "cell_type": "code",
   "execution_count": 59,
   "id": "4831d0f3-b62d-4738-8a35-7a3496dec696",
   "metadata": {},
   "outputs": [
    {
     "data": {
      "application/vnd.jupyter.widget-view+json": {
       "model_id": "",
       "version_major": 2,
       "version_minor": 0
      },
      "text/plain": [
       "FloatProgress(value=0.0, bar_style='info', description='Progress:', layout=Layout(height='25px', width='50%'),…"
      ]
     },
     "metadata": {},
     "output_type": "display_data"
    },
    {
     "name": "stdout",
     "output_type": "stream",
     "text": [
      "+---------+----------+--------------+------------+--------+--------------------+----------+-------------------------------------+--------------+---------+--------------+---------------+-----------+-------+---------------------+-------------------+----------------------+-----------------------+---------------------+----------------------+--------------+----+-----+\n",
      "|STOP_NAME|      date|       trip_id|betreiber_id|operator|       operator_name|produkt_id| for trains, this is the train number|type_service_1|umlauf_id|type_service_2|additional_trip|trip_failed|  bpuic|arrival_time_schedule|arrival_time_actual|measure_method_arrival|departure_time_schedule|departure_time_actual|measure_method_arrival|does_stop_here|year|month|\n",
      "+---------+----------+--------------+------------+--------+--------------------+----------+-------------------------------------+--------------+---------+--------------+---------------+-----------+-------+---------------------+-------------------+----------------------+-----------------------+---------------------+----------------------+--------------+----+-----+\n",
      "|Zürich HB|25.01.2021|85:11:1007:001|       85:11|     SBB|Schweizerische Bu...|       Zug|                                 1007|           IC4|         |            IC|          false|      false|8503000|     25.01.2021 06:23|25.01.2021 06:24:55|                  REAL|                       |                     |              PROGNOSE|         false|2021|    1|\n",
      "|Zürich HB|25.01.2021|85:11:1009:001|       85:11|     SBB|Schweizerische Bu...|       Zug|                                 1009|           IC4|         |            IC|          false|      false|8503000|     25.01.2021 07:23|25.01.2021 07:25:30|                  REAL|                       |                     |              PROGNOSE|         false|2021|    1|\n",
      "|Zürich HB|25.01.2021|85:11:1011:001|       85:11|     SBB|Schweizerische Bu...|       Zug|                                 1011|           IC4|         |            IC|          false|      false|8503000|     25.01.2021 08:23|25.01.2021 08:24:50|                  REAL|                       |                     |              PROGNOSE|         false|2021|    1|\n",
      "|Zürich HB|25.01.2021|85:11:1040:001|       85:11|     SBB|Schweizerische Bu...|       Zug|                                 1040|           IC4|         |            IC|          false|      false|8503000|                     |                   |              PROGNOSE|       25.01.2021 21:37|  25.01.2021 21:38:58|                  REAL|         false|2021|    1|\n",
      "|Zürich HB|25.01.2021|85:11:1251:001|       85:11|     SBB|Schweizerische Bu...|       Zug|                                 1251|           IC3|         |            IC|          false|      false|8503000|     25.01.2021 07:00|25.01.2021 07:00:03|                  REAL|                       |                     |              PROGNOSE|         false|2021|    1|\n",
      "+---------+----------+--------------+------------+--------+--------------------+----------+-------------------------------------+--------------+---------+--------------+---------------+-----------+-------+---------------------+-------------------+----------------------+-----------------------+---------------------+----------------------+--------------+----+-----+\n",
      "only showing top 5 rows"
     ]
    }
   ],
   "source": [
    "%%spark\n",
    "real_time.show(5)"
   ]
  },
  {
   "cell_type": "code",
   "execution_count": null,
   "id": "ea29bbbb-6b81-43f9-b264-3076d02047b1",
   "metadata": {},
   "outputs": [],
   "source": []
  }
 ],
 "metadata": {
  "kernelspec": {
   "display_name": "Python 3",
   "language": "python",
   "name": "python3"
  },
  "language_info": {
   "codemirror_mode": {
    "name": "ipython",
    "version": 3
   },
   "file_extension": ".py",
   "mimetype": "text/x-python",
   "name": "python",
   "nbconvert_exporter": "python",
   "pygments_lexer": "ipython3",
   "version": "3.9.7"
  }
 },
 "nbformat": 4,
 "nbformat_minor": 5
}
