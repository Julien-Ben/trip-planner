{
 "cells": [
  {
   "cell_type": "code",
   "execution_count": 1,
   "id": "6ebd3b9c-8b61-452f-b0f5-40c1f656825d",
   "metadata": {},
   "outputs": [],
   "source": [
    "import pandas as pd\n",
    "import os"
   ]
  },
  {
   "cell_type": "code",
   "execution_count": 3,
   "id": "ac7e13b5-70af-4912-9b53-c16fef615c96",
   "metadata": {},
   "outputs": [
    {
     "data": {
      "text/plain": [
       "['.gitkeep',\n",
       " 'timetable',\n",
       " 'arrivalsRouteStops',\n",
       " 'departuresRouteStops',\n",
       " 'route_names_types.csv',\n",
       " 'stations.csv',\n",
       " 'terminusRouteStops',\n",
       " 'stop_ids_in_radius.csv',\n",
       " '.gitattributes',\n",
       " 'delay_distrib',\n",
       " 'waiting_times.csv',\n",
       " '.ipynb_checkpoints']"
      ]
     },
     "execution_count": 3,
     "metadata": {},
     "output_type": "execute_result"
    }
   ],
   "source": [
    "os.listdir(\"../data\")"
   ]
  },
  {
   "cell_type": "markdown",
   "id": "983da3d8-cd1f-422f-8f16-1a66aef3d110",
   "metadata": {},
   "source": [
    "### Adding types and route names to routeStops"
   ]
  },
  {
   "cell_type": "code",
   "execution_count": 5,
   "id": "5bdf568c-b6df-4a3f-a31c-dab957f8cd8d",
   "metadata": {},
   "outputs": [
    {
     "data": {
      "text/html": [
       "<div>\n",
       "<style scoped>\n",
       "    .dataframe tbody tr th:only-of-type {\n",
       "        vertical-align: middle;\n",
       "    }\n",
       "\n",
       "    .dataframe tbody tr th {\n",
       "        vertical-align: top;\n",
       "    }\n",
       "\n",
       "    .dataframe thead th {\n",
       "        text-align: right;\n",
       "    }\n",
       "</style>\n",
       "<table border=\"1\" class=\"dataframe\">\n",
       "  <thead>\n",
       "    <tr style=\"text-align: right;\">\n",
       "      <th></th>\n",
       "      <th>version https://git-lfs.github.com/spec/v1</th>\n",
       "    </tr>\n",
       "  </thead>\n",
       "  <tbody>\n",
       "    <tr>\n",
       "      <th>0</th>\n",
       "      <td>oid sha256:443968426de60978222aab4d10b7edcf381...</td>\n",
       "    </tr>\n",
       "    <tr>\n",
       "      <th>1</th>\n",
       "      <td>size 3028166</td>\n",
       "    </tr>\n",
       "  </tbody>\n",
       "</table>\n",
       "</div>"
      ],
      "text/plain": [
       "          version https://git-lfs.github.com/spec/v1\n",
       "0  oid sha256:443968426de60978222aab4d10b7edcf381...\n",
       "1                                       size 3028166"
      ]
     },
     "execution_count": 5,
     "metadata": {},
     "output_type": "execute_result"
    }
   ],
   "source": [
    "arrivals = pd.read_csv(\"../data/arrivalsRouteStops/arrivalsRouteStops.csv\")\n",
    "arrivals.head()"
   ]
  },
  {
   "cell_type": "code",
   "execution_count": null,
   "id": "b4004326-0884-466f-9866-87df3502a7d5",
   "metadata": {},
   "outputs": [],
   "source": []
  }
 ],
 "metadata": {
  "kernelspec": {
   "display_name": "Python 3",
   "language": "python",
   "name": "python3"
  },
  "language_info": {
   "codemirror_mode": {
    "name": "ipython",
    "version": 3
   },
   "file_extension": ".py",
   "mimetype": "text/x-python",
   "name": "python",
   "nbconvert_exporter": "python",
   "pygments_lexer": "ipython3",
   "version": "3.9.7"
  }
 },
 "nbformat": 4,
 "nbformat_minor": 5
}
